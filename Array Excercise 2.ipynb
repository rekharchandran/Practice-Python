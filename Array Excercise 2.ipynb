{
 "cells": [
  {
   "cell_type": "markdown",
   "metadata": {},
   "source": [
    "# Python: Array Exercise-2"
   ]
  },
  {
   "cell_type": "markdown",
   "metadata": {},
   "source": [
    "#### Write a Python program to reverse the order of the items in the array."
   ]
  },
  {
   "cell_type": "code",
   "execution_count": 1,
   "metadata": {},
   "outputs": [
    {
     "name": "stdout",
     "output_type": "stream",
     "text": [
      "Original array: array('i', [1, 3, 5, 3, 7, 1, 9, 3])\n",
      "Reverse the order of the items:\n",
      "array('i', [3, 9, 1, 7, 3, 5, 3, 1])\n"
     ]
    }
   ],
   "source": [
    "from array import *\n",
    "array_num = array('i', [1, 3, 5, 3, 7, 1, 9, 3])\n",
    "print(\"Original array: \"+str(array_num))\n",
    "array_num.reverse()\n",
    "print(\"Reverse the order of the items:\")\n",
    "print(str(array_num))"
   ]
  },
  {
   "cell_type": "markdown",
   "metadata": {},
   "source": [
    "#### Write a Python program to get the length in bytes of one array item in the internal representation."
   ]
  },
  {
   "cell_type": "code",
   "execution_count": 2,
   "metadata": {},
   "outputs": [
    {
     "name": "stdout",
     "output_type": "stream",
     "text": [
      "Original array: array('i', [1, 3, 5, 7, 9])\n",
      "Length in bytes of one array item: 4\n"
     ]
    }
   ],
   "source": [
    "from array import *\n",
    "array_num = array('i', [1, 3, 5, 7, 9])\n",
    "print(\"Original array: \"+str(array_num))\n",
    "print(\"Length in bytes of one array item: \"+str(array_num.itemsize))"
   ]
  },
  {
   "cell_type": "markdown",
   "metadata": {},
   "source": [
    "#### Write a Python program to get the current memory address and the length in elements of the buffer used to hold an array’s contents and also find the size of the memory buffer in bytes."
   ]
  },
  {
   "cell_type": "code",
   "execution_count": 3,
   "metadata": {},
   "outputs": [
    {
     "name": "stdout",
     "output_type": "stream",
     "text": [
      "Original array: array('i', [1, 3, 5, 7, 9])\n",
      "Current memory address and the length in elements of the buffer: (4601435720, 5)\n",
      "The size of the memory buffer in bytes: 20\n"
     ]
    }
   ],
   "source": [
    "from array import *\n",
    "array_num = array('i', [1, 3, 5, 7, 9])\n",
    "print(\"Original array: \"+str(array_num))\n",
    "print(\"Current memory address and the length in elements of the buffer: \"+str(array_num.buffer_info()))\n",
    "print(\"The size of the memory buffer in bytes: \"+str(array_num.buffer_info()[1] * array_num.itemsize))"
   ]
  },
  {
   "cell_type": "markdown",
   "metadata": {},
   "source": [
    "#### Write a Python program to get the number of occurrences of a specified element in an array."
   ]
  },
  {
   "cell_type": "code",
   "execution_count": 4,
   "metadata": {},
   "outputs": [
    {
     "name": "stdout",
     "output_type": "stream",
     "text": [
      "Original array: array('i', [1, 3, 5, 3, 7, 9, 3])\n",
      "Number of occurrences of the number 3 in the said array: 3\n"
     ]
    }
   ],
   "source": [
    "from array import *\n",
    "array_num = array('i', [1, 3, 5, 3, 7, 9, 3])\n",
    "print(\"Original array: \"+str(array_num))\n",
    "print(\"Number of occurrences of the number 3 in the said array: \"+str(array_num.count(3)))"
   ]
  },
  {
   "cell_type": "code",
   "execution_count": null,
   "metadata": {},
   "outputs": [],
   "source": []
  }
 ],
 "metadata": {
  "kernelspec": {
   "display_name": "Python 3",
   "language": "python",
   "name": "python3"
  },
  "language_info": {
   "codemirror_mode": {
    "name": "ipython",
    "version": 3
   },
   "file_extension": ".py",
   "mimetype": "text/x-python",
   "name": "python",
   "nbconvert_exporter": "python",
   "pygments_lexer": "ipython3",
   "version": "3.7.1"
  }
 },
 "nbformat": 4,
 "nbformat_minor": 2
}
