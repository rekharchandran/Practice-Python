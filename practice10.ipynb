{
  "nbformat": 4,
  "nbformat_minor": 0,
  "metadata": {
    "colab": {
      "provenance": []
    },
    "kernelspec": {
      "name": "python3",
      "display_name": "Python 3"
    },
    "language_info": {
      "name": "python"
    }
  },
  "cells": [
    {
      "cell_type": "code",
      "execution_count": null,
      "metadata": {
        "id": "yyBsv_NRBWoB"
      },
      "outputs": [],
      "source": [
        "#Question 1: Write a Python function that takes a list of integers as input and returns the sum of all even numbers in the list."
      ]
    },
    {
      "cell_type": "code",
      "source": [
        "def sum_of_even_numbers(numbers):\n",
        "    return sum(num for num in numbers if num % 2 == 0)\n",
        "\n",
        "# Example usage:\n",
        "numbers = [1, 2, 3, 4, 5, 6]\n",
        "print(sum_of_even_numbers(numbers))\n"
      ],
      "metadata": {
        "colab": {
          "base_uri": "https://localhost:8080/"
        },
        "id": "Hdf8CW1rCwiT",
        "outputId": "4294cc2d-b500-4789-f6d0-5b5083e1f809"
      },
      "execution_count": 1,
      "outputs": [
        {
          "output_type": "stream",
          "name": "stdout",
          "text": [
            "12\n"
          ]
        }
      ]
    },
    {
      "cell_type": "code",
      "source": [
        "#Question 2:Implement a Python class called BankAccount with the following attributes and methods:\n",
        "#• Attributes: account_number (string), balance (float)\n",
        "#• Methods: __init__(self, account_number, initial_balance), deposit(self, amount), withdraw(self, amount), get_balance(self)\n",
        "class BankAccount:\n",
        "    def __init__(self, account_number, initial_balance):\n",
        "        \"\"\"\n",
        "        Initializes a new bank account with the given account number and initial balance.\n",
        "        \"\"\"\n",
        "        self.account_number = account_number\n",
        "        self.balance = initial_balance\n",
        "\n",
        "    def deposit(self, amount):\n",
        "        \"\"\"\n",
        "        Deposits the specified amount into the account.\n",
        "        Amount must be positive.\n",
        "        \"\"\"\n",
        "        if amount > 0:\n",
        "            self.balance += amount\n",
        "        else:\n",
        "            raise ValueError(\"Deposit amount must be positive.\")\n",
        "\n",
        "    def withdraw(self, amount):\n",
        "        \"\"\"\n",
        "        Withdraws the specified amount from the account.\n",
        "        Amount must be positive and less than or equal to the current balance.\n",
        "        \"\"\"\n",
        "        if amount > 0:\n",
        "            if amount <= self.balance:\n",
        "                self.balance -= amount\n",
        "            else:\n",
        "                raise ValueError(\"Insufficient funds.\")\n",
        "        else:\n",
        "            raise ValueError(\"Withdrawal amount must be positive.\")\n",
        "\n",
        "    def get_balance(self):\n",
        "        \"\"\"\n",
        "        Returns the current balance of the account.\n",
        "        \"\"\"\n",
        "        return self.balance\n",
        "\n",
        "# Example usage:\n",
        "if __name__ == \"__main__\":\n",
        "    account = BankAccount(\"123456789\", 1000.0)\n",
        "    print(\"Initial balance:\", account.get_balance())\n",
        "    account.deposit(500.0)\n",
        "    print(\"Balance after deposit:\", account.get_balance())\n",
        "    account.withdraw(200.0)\n",
        "    print(\"Balance after withdrawal:\", account.get_balance())\n",
        "\n",
        "\n",
        "\n"
      ],
      "metadata": {
        "colab": {
          "base_uri": "https://localhost:8080/"
        },
        "id": "vTVNXj0CDqpl",
        "outputId": "1e877f33-b7f4-41ed-ca00-6aa6f629bad4"
      },
      "execution_count": 3,
      "outputs": [
        {
          "output_type": "stream",
          "name": "stdout",
          "text": [
            "Initial balance: 1000.0\n",
            "Balance after deposit: 1500.0\n",
            "Balance after withdrawal: 1300.0\n"
          ]
        }
      ]
    },
    {
      "cell_type": "code",
      "source": [
        "#Question 3: Given a string, write a Python function to reverse the order of words in the string.\n",
        "#For example, if the input string is \"The quick brown fox\", the output should be \"fox brown quick The\".\n",
        "\n",
        "def reverse_words(input_string):\n",
        "    # Split the string into words\n",
        "    words = input_string.split()\n",
        "    # Reverse the list of words\n",
        "    reversed_words = words[::-1]\n",
        "    # Join the reversed list of words into a string\n",
        "    reversed_string = ' '.join(reversed_words)\n",
        "    return reversed_string\n",
        "\n",
        "# Example usage:\n",
        "input_string = \"The quick brown fox\"\n",
        "print(reverse_words(input_string))\n"
      ],
      "metadata": {
        "colab": {
          "base_uri": "https://localhost:8080/"
        },
        "id": "VS4wLQYZEnjK",
        "outputId": "7c4e3f0d-55f0-4b96-af15-27b21a8062ae"
      },
      "execution_count": 2,
      "outputs": [
        {
          "output_type": "stream",
          "name": "stdout",
          "text": [
            "fox brown quick The\n"
          ]
        }
      ]
    },
    {
      "cell_type": "code",
      "source": [
        "#Question 4: Implement a Python generator function that generates the Fibonacci sequence up to a given number n.\n",
        "def fibonacci(n):\n",
        "    \"\"\"\n",
        "    A generator function that yields the Fibonacci sequence up to a given number n.\n",
        "    \"\"\"\n",
        "    a, b = 0, 1\n",
        "    while a <= n:\n",
        "        yield a\n",
        "        a, b = b, a + b\n",
        "\n",
        "# Example usage:\n",
        "n = 10\n",
        "for num in fibonacci(n):\n",
        "    print(num)\n",
        "\n"
      ],
      "metadata": {
        "colab": {
          "base_uri": "https://localhost:8080/"
        },
        "id": "aG4mvxWqFz8T",
        "outputId": "22167467-b4f3-431e-e677-0022157046b0"
      },
      "execution_count": 4,
      "outputs": [
        {
          "output_type": "stream",
          "name": "stdout",
          "text": [
            "0\n",
            "1\n",
            "1\n",
            "2\n",
            "3\n",
            "5\n",
            "8\n"
          ]
        }
      ]
    },
    {
      "cell_type": "code",
      "source": [
        "#Question 6: Implement a Python function that takes a list of dictionaries representing students and their grades,\n",
        "#and returns the name of the student with the highest average grade\n",
        "def get_student_with_highest_average(students):\n",
        "\n",
        "    highest_average = float(\"-inf\")\n",
        "    best_student_name = None\n",
        "\n",
        "    for student in students:\n",
        "        grades = student.get(\"grades\", [])\n",
        "        if grades:\n",
        "            average_grade = sum(grades) / len(grades)\n",
        "            if average_grade > highest_average:\n",
        "                highest_average = average_grade\n",
        "                best_student_name = student.get(\"name\", \"\")\n",
        "\n",
        "    return best_student_name\n",
        "\n",
        "# Example usage:\n",
        "students_data = [\n",
        "    {\"name\": \"Rekha\", \"grades\": [85, 90, 92]},\n",
        "    {\"name\": \"Remya\", \"grades\": [78, 88, 95]},\n",
        "    {\"name\": \"Reshmi\", \"grades\": [92, 94, 91]},\n",
        "]\n",
        "\n",
        "highest_average_student = get_student_with_highest_average(students_data)\n",
        "print(f\"The student with the highest average grade is: {highest_average_student}\")\n"
      ],
      "metadata": {
        "colab": {
          "base_uri": "https://localhost:8080/"
        },
        "id": "vh8uu3kfHt6m",
        "outputId": "313ef713-9349-4e4e-bdc6-45e15ae9f422"
      },
      "execution_count": 8,
      "outputs": [
        {
          "output_type": "stream",
          "name": "stdout",
          "text": [
            "The student with the highest average grade is: Reshmi\n"
          ]
        }
      ]
    },
    {
      "cell_type": "code",
      "source": [
        "#Question 7: Write a Python function that takes a string as input and returns a dictionary where the keys are characters in the string,\n",
        "# and the values are the counts of how many times each character appears.\n",
        "from collections import Counter\n",
        "\n",
        "def count_characters(s):\n",
        "    \"\"\"\n",
        "    Given a string, returns a dictionary where keys are characters and values are their counts.\n",
        "\n",
        "    Args:\n",
        "        s (str): Input string.\n",
        "\n",
        "    Returns:\n",
        "        dict: Dictionary with character counts.\n",
        "    \"\"\"\n",
        "    char_counts = Counter(s)\n",
        "    return dict(char_counts)\n",
        "\n",
        "# Example usage:\n",
        "input_string = \"Nice weather today\"\n",
        "character_counts = count_characters(input_string)\n",
        "print(\"Character counts:\")\n",
        "for char, count in character_counts.items():\n",
        "    print(f\"'{char}': {count}\")\n"
      ],
      "metadata": {
        "colab": {
          "base_uri": "https://localhost:8080/"
        },
        "id": "Czi05TbXJB1V",
        "outputId": "b92ee776-56d3-4d4a-8290-b90e78acec0b"
      },
      "execution_count": 13,
      "outputs": [
        {
          "output_type": "stream",
          "name": "stdout",
          "text": [
            "Character counts:\n",
            "'N': 1\n",
            "'i': 1\n",
            "'c': 1\n",
            "'e': 3\n",
            "' ': 2\n",
            "'w': 1\n",
            "'a': 2\n",
            "'t': 2\n",
            "'h': 1\n",
            "'r': 1\n",
            "'o': 1\n",
            "'d': 1\n",
            "'y': 1\n"
          ]
        }
      ]
    },
    {
      "cell_type": "markdown",
      "source": [
        "#### Question 8: List down difference between a tuple and a list.\n",
        "##### Tuple:\n",
        "1. Tuples are immutable, meaning their elements cannot be modified once the tuple is created. We cannot add, remove or change elements in a tuple.\n",
        "2. Defined using parentheses (())\n",
        "3. Tuples are faster because they are immutable. Once created, their memory layout remains fixed.\n",
        "4. Use tuples when we want to create a collection of related items that should remain constant (e.g., coordinates, database records).\n",
        "5. Tuples have fewer methods since they are immutable. Common methods include count() and index()\n",
        "\n",
        "##### List\n",
        "\n",
        "1. Lists are mutable, which means we can modify their elements (add, remove, or change) after creation\n",
        "2. Defined using parentheses (())\n",
        "3. Lists are slightly slower than tuples due to their mutability. When we modify a list, Python needs to allocate new memory\n",
        "4. Use lists when you need a collection of items that can be modified (e.g., maintaining a dynamic list of elements).\n",
        "5. Lists have several built-in methods like append(), pop(), insert(), etc., for modifying their contents\n",
        "\n",
        "\n",
        "\n",
        "\n",
        "\n",
        "\n"
      ],
      "metadata": {
        "id": "dC0cKVYWKzuM"
      }
    },
    {
      "cell_type": "code",
      "source": [
        "#Question 9: Implement a Python function that takes a list of integers and returns a list of all subsets of the original list.\n",
        "from itertools import chain, combinations\n",
        "\n",
        "def all_subsets(original_list):\n",
        "    \"\"\"\n",
        "    Returns a list of all subsets of the original list.\n",
        "    \"\"\"\n",
        "    # Generate all possible combinations of all possible lengths\n",
        "    subsets = chain.from_iterable(combinations(original_list, r) for r in range(len(original_list) + 1))\n",
        "    # Convert the combinations from tuples to lists\n",
        "    return [list(subset) for subset in subsets]\n",
        "\n",
        "# Example usage:\n",
        "original_list = [1, 2, 3]\n",
        "print(all_subsets(original_list))\n",
        "\n"
      ],
      "metadata": {
        "colab": {
          "base_uri": "https://localhost:8080/"
        },
        "id": "MOkQoOchOEL5",
        "outputId": "fafed69f-8ed5-4f20-dc0b-9d9fe2922071"
      },
      "execution_count": 15,
      "outputs": [
        {
          "output_type": "stream",
          "name": "stdout",
          "text": [
            "[[], [1], [2], [3], [1, 2], [1, 3], [2, 3], [1, 2, 3]]\n"
          ]
        }
      ]
    },
    {
      "cell_type": "code",
      "source": [
        "#Question 10: Write a Python decorator function that caches the result of a function call based on its arguments.\n",
        "#If the function is called with the same arguments again, the cached result should be returned instead of recomputing the function.\n",
        "\n",
        "import functools\n",
        "\n",
        "def cache_result(func):\n",
        "    \"\"\"\n",
        "    Decorator to cache the result of a function based on its arguments.\n",
        "\n",
        "    Args:\n",
        "        func: The function to be decorated.\n",
        "\n",
        "    Returns:\n",
        "        The decorated function.\n",
        "    \"\"\"\n",
        "    @functools.lru_cache(maxsize=None)\n",
        "    @functools.wraps(func)\n",
        "    def wrapper(*args, **kwargs):\n",
        "        return func(*args, **kwargs)\n",
        "\n",
        "    return wrapper\n",
        "\n",
        "# Example usage:\n",
        "@cache_result\n",
        "def expensive_calculation(x, y):\n",
        "    print(f\"Performing expensive calculation for ({x}, {y})\")\n",
        "    return x + y\n",
        "\n",
        "result1 = expensive_calculation(3, 4)\n",
        "result2 = expensive_calculation(3, 4)\n",
        "result3 = expensive_calculation(5, 6)\n",
        "\n",
        "print(f\"Result 1: {result1}\")\n",
        "print(f\"Result 2 (cached): {result2}\")\n",
        "print(f\"Result 3: {result3}\")\n"
      ],
      "metadata": {
        "colab": {
          "base_uri": "https://localhost:8080/"
        },
        "id": "85opl3KrP-X2",
        "outputId": "530b69c7-783d-427b-f233-8672406ee990"
      },
      "execution_count": 17,
      "outputs": [
        {
          "output_type": "stream",
          "name": "stdout",
          "text": [
            "Performing expensive calculation for (3, 4)\n",
            "Performing expensive calculation for (5, 6)\n",
            "Result 1: 7\n",
            "Result 2 (cached): 7\n",
            "Result 3: 11\n"
          ]
        }
      ]
    }
  ]
}
