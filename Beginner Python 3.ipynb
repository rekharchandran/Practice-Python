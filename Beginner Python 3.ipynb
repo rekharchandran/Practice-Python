{
 "cells": [
  {
   "cell_type": "markdown",
   "metadata": {},
   "source": [
    "#### Given an array of positive integers where all numbers occur even number of times except one number which occurs odd number of times. Find the number."
   ]
  },
  {
   "cell_type": "code",
   "execution_count": 2,
   "metadata": {},
   "outputs": [],
   "source": [
    "def find_number(integers):\n",
    "    new_integers = [int(integer%2) for integer in integers]\n",
    "    if new_integers.count(0) == 1:\n",
    "        return integers[new_integers.index(0)]\n",
    "    else:\n",
    "        return integers[new_integers.index(1)]\n",
    "    "
   ]
  },
  {
   "cell_type": "code",
   "execution_count": 5,
   "metadata": {},
   "outputs": [
    {
     "data": {
      "text/plain": [
       "3"
      ]
     },
     "execution_count": 5,
     "metadata": {},
     "output_type": "execute_result"
    }
   ],
   "source": [
    "find_number([2,4,6,3,8])"
   ]
  },
  {
   "cell_type": "code",
   "execution_count": null,
   "metadata": {},
   "outputs": [],
   "source": [
    "  a=list(map(int, input().split()))\n",
    "    d=Counter(a)\n",
    "    for item in d:\n",
    "        b=False\n",
    "        if(d[item]%2!=0):\n",
    "            print(item)\n",
    "            b=True\n",
    "            break\n",
    "    if(b==False):\n",
    "        print(0)"
   ]
  },
  {
   "cell_type": "code",
   "execution_count": 7,
   "metadata": {},
   "outputs": [
    {
     "data": {
      "text/plain": [
       "[2, 4, 6, 3, 8]"
      ]
     },
     "execution_count": 7,
     "metadata": {},
     "output_type": "execute_result"
    }
   ],
   "source": [
    " ([2,4,6,3,8])"
   ]
  },
  {
   "cell_type": "code",
   "execution_count": 9,
   "metadata": {},
   "outputs": [
    {
     "name": "stdout",
     "output_type": "stream",
     "text": [
      "The original string is : Geeks\n",
      "All substrings of string are : ['G', 'Ge', 'Gee', 'Geek', 'Geeks', 'e', 'ee', 'eek', 'eeks', 'e', 'ek', 'eks', 'k', 'ks', 's']\n"
     ]
    }
   ],
   "source": [
    "#Python3 code to demonstrate working of \n",
    "# Get all substrings of string \n",
    "# Using itertools.combinations() \n",
    "from itertools import combinations \n",
    "  \n",
    "# initializing string  \n",
    "test_str = \"Geeks\"\n",
    "  \n",
    "# printing original string  \n",
    "print(\"The original string is : \" + str(test_str)) \n",
    "  \n",
    "# Get all substrings of string \n",
    "# Using itertools.combinations() \n",
    "res = [test_str[x:y] for x, y in combinations( \n",
    "            range(len(test_str) + 1), r = 2)] \n",
    "  \n",
    "# printing result  \n",
    "print(\"All substrings of string are : \" + str(res)) \n"
   ]
  },
  {
   "cell_type": "code",
   "execution_count": null,
   "metadata": {},
   "outputs": [],
   "source": []
  },
  {
   "cell_type": "code",
   "execution_count": 24,
   "metadata": {},
   "outputs": [],
   "source": [
    "def testgen(index):\n",
    "    \n",
    "    weekdays = ['sun','mon','tue','wed','thu','fri','sat']\n",
    "    yield weekdays[index]\n",
    "    yield weekdays[index+1]\n",
    "    day = testgen(0)\n",
    "    print(next(day), next(day))\n",
    "     \n",
    "   "
   ]
  },
  {
   "cell_type": "code",
   "execution_count": 30,
   "metadata": {},
   "outputs": [
    {
     "ename": "NameError",
     "evalue": "name 'index' is not defined",
     "output_type": "error",
     "traceback": [
      "\u001b[0;31m---------------------------------------------------------------------------\u001b[0m",
      "\u001b[0;31mNameError\u001b[0m                                 Traceback (most recent call last)",
      "\u001b[0;32m<ipython-input-30-198f774cff3e>\u001b[0m in \u001b[0;36m<module>\u001b[0;34m\u001b[0m\n\u001b[0;32m----> 1\u001b[0;31m \u001b[0mtestgen\u001b[0m\u001b[0;34m(\u001b[0m\u001b[0mindex\u001b[0m\u001b[0;34m)\u001b[0m\u001b[0;34m\u001b[0m\u001b[0;34m\u001b[0m\u001b[0m\n\u001b[0m",
      "\u001b[0;31mNameError\u001b[0m: name 'index' is not defined"
     ]
    }
   ],
   "source": []
  },
  {
   "cell_type": "markdown",
   "metadata": {},
   "source": [
    "### Q1\n",
    "\n",
    "#### Write a program which will find all such numbers which are divisible by 7 but are not a multiple of 5,\n",
    "#### between 2000 and 3200 (both included).\n",
    "#### The numbers obtained should be printed in a comma-separated sequence on a single line."
   ]
  },
  {
   "cell_type": "code",
   "execution_count": 43,
   "metadata": {},
   "outputs": [
    {
     "name": "stdout",
     "output_type": "stream",
     "text": [
      "give me a number to check3600\n",
      "3600 is a multiple of 5\n"
     ]
    }
   ],
   "source": [
    "num = int(input(\"give me a number to check\"))\n",
    "if num%7 ==0:\n",
    "    print(num, \"is divisible by 7\")\n",
    "else:\n",
    "    num%5 ==0\n",
    "    print(num, 'is a multiple of 5') \n"
   ]
  },
  {
   "cell_type": "markdown",
   "metadata": {},
   "source": [
    "### Q2\n",
    "\n",
    "#### Write a program which will find all such numbers which are divisible by 7 but are not a multiple of 5, between 2000 and 3200 (both included).\n",
    "The numbers obtained should be printed in a comma-separated sequence on a single line."
   ]
  },
  {
   "cell_type": "code",
   "execution_count": 33,
   "metadata": {},
   "outputs": [
    {
     "name": "stdout",
     "output_type": "stream",
     "text": [
      "2002,2009,2016,2023,2037,2044,2051,2058,2072,2079,2086,2093,2107,2114,2121,2128,2142,2149,2156,2163,2177,2184,2191,2198,2212,2219,2226,2233,2247,2254,2261,2268,2282,2289,2296,2303,2317,2324,2331,2338,2352,2359,2366,2373,2387,2394,2401,2408,2422,2429,2436,2443,2457,2464,2471,2478,2492,2499,2506,2513,2527,2534,2541,2548,2562,2569,2576,2583,2597,2604,2611,2618,2632,2639,2646,2653,2667,2674,2681,2688,2702,2709,2716,2723,2737,2744,2751,2758,2772,2779,2786,2793,2807,2814,2821,2828,2842,2849,2856,2863,2877,2884,2891,2898,2912,2919,2926,2933,2947,2954,2961,2968,2982,2989,2996,3003,3017,3024,3031,3038,3052,3059,3066,3073,3087,3094,3101,3108,3122,3129,3136,3143,3157,3164,3171,3178,3192,3199\n"
     ]
    }
   ],
   "source": [
    "l=[]\n",
    "for i in range(2000, 3201):\n",
    "    if (i%7==0) and (i%5!=0):\n",
    "        l.append(str(i))\n",
    "\n",
    "print (','.join(l))"
   ]
  },
  {
   "cell_type": "markdown",
   "metadata": {},
   "source": [
    "### Question:\n",
    "#### Write a program which can compute the factorial of a given numbers.\n",
    "#### The results should be printed in a comma-separated sequence on a single line."
   ]
  },
  {
   "cell_type": "code",
   "execution_count": 61,
   "metadata": {},
   "outputs": [
    {
     "data": {
      "text/plain": [
       "1"
      ]
     },
     "execution_count": 61,
     "metadata": {},
     "output_type": "execute_result"
    }
   ],
   "source": [
    "factorial"
   ]
  },
  {
   "cell_type": "code",
   "execution_count": 63,
   "metadata": {},
   "outputs": [
    {
     "name": "stdout",
     "output_type": "stream",
     "text": [
      "Input a number to compute the factiorial : 8\n",
      "40320\n"
     ]
    }
   ],
   "source": [
    "def factorial(n):\n",
    "    if n == 0:\n",
    "        return 1\n",
    "    else:\n",
    "        return n * factorial(n-1)\n",
    "n=int(input(\"Input a number to compute the factiorial : \"))\n",
    "print(factorial(n))"
   ]
  },
  {
   "cell_type": "markdown",
   "metadata": {},
   "source": [
    "### With a given integral number n, write a program to generate a dictionary that contains (i, i*i) such that is an integral number between 1 and n (both included). and then the program should print the dictionary.\n",
    "Suppose the following input is supplied to the program:\n",
    "8\n",
    "Then, the output should be:\n",
    "{1: 1, 2: 4, 3: 9, 4: 16, 5: 25, 6: 36, 7: 49, 8: 64}"
   ]
  },
  {
   "cell_type": "code",
   "execution_count": 67,
   "metadata": {},
   "outputs": [
    {
     "name": "stdout",
     "output_type": "stream",
     "text": [
      "input a number8\n",
      "{1: 1}\n",
      "{1: 1, 2: 4}\n",
      "{1: 1, 2: 4, 3: 9}\n",
      "{1: 1, 2: 4, 3: 9, 4: 16}\n",
      "{1: 1, 2: 4, 3: 9, 4: 16, 5: 25}\n",
      "{1: 1, 2: 4, 3: 9, 4: 16, 5: 25, 6: 36}\n",
      "{1: 1, 2: 4, 3: 9, 4: 16, 5: 25, 6: 36, 7: 49}\n",
      "{1: 1, 2: 4, 3: 9, 4: 16, 5: 25, 6: 36, 7: 49, 8: 64}\n"
     ]
    }
   ],
   "source": [
    "n=int(input('input a number'))\n",
    "d=dict()\n",
    "for i in range(1,n+1):\n",
    "    d[i]=i*i\n",
    "    print(d)"
   ]
  },
  {
   "cell_type": "markdown",
   "metadata": {},
   "source": [
    "### Write a program which accepts a sequence of comma-separated numbers from console and generate a list and a tuple which contains every number.\n",
    "Suppose the following input is supplied to the program:"
   ]
  },
  {
   "cell_type": "code",
   "execution_count": 68,
   "metadata": {},
   "outputs": [
    {
     "name": "stdout",
     "output_type": "stream",
     "text": [
      "None\n"
     ]
    }
   ],
   "source": [
    "def group_by_owners(files):\n",
    "    return None\n",
    "    \n",
    "files = {\n",
    "    'Input.txt': 'Randy',\n",
    "    'Code.py': 'Stan',\n",
    "    'Output.txt': 'Randy'\n",
    "}   \n",
    "print(group_by_owners(files))"
   ]
  },
  {
   "cell_type": "code",
   "execution_count": null,
   "metadata": {},
   "outputs": [],
   "source": []
  }
 ],
 "metadata": {
  "kernelspec": {
   "display_name": "Python 3",
   "language": "python",
   "name": "python3"
  },
  "language_info": {
   "codemirror_mode": {
    "name": "ipython",
    "version": 3
   },
   "file_extension": ".py",
   "mimetype": "text/x-python",
   "name": "python",
   "nbconvert_exporter": "python",
   "pygments_lexer": "ipython3",
   "version": "3.7.1"
  }
 },
 "nbformat": 4,
 "nbformat_minor": 2
}
