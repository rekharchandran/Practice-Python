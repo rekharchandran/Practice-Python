{
 "cells": [
  {
   "cell_type": "markdown",
   "metadata": {},
   "source": [
    "# Python: Array"
   ]
  },
  {
   "cell_type": "markdown",
   "metadata": {},
   "source": [
    "##### Python array module defines an object type which can compactly represent an array of basic values: characters, integers, floating point numbers. Arrays are sequence types and behave very much like lists, except that the type of objects stored in them is constrained."
   ]
  },
  {
   "cell_type": "markdown",
   "metadata": {},
   "source": [
    "#### Write a Python program to create an array of 5 integers and display the array items. Access individual element through indexes."
   ]
  },
  {
   "cell_type": "code",
   "execution_count": 1,
   "metadata": {},
   "outputs": [
    {
     "name": "stdout",
     "output_type": "stream",
     "text": [
      "1\n",
      "3\n",
      "5\n",
      "7\n",
      "9\n",
      "Access first three items individually\n",
      "1\n",
      "3\n",
      "5\n"
     ]
    }
   ],
   "source": [
    "from array import *\n",
    "array_num = array('i', [1,3,5,7,9])\n",
    "for i in array_num:\n",
    "    print(i)\n",
    "print(\"Access first three items individually\")\n",
    "print(array_num[0])\n",
    "print(array_num[1])\n",
    "print(array_num[2])"
   ]
  },
  {
   "cell_type": "markdown",
   "metadata": {},
   "source": [
    "#### Write a Python program to append a new item to the end of the array"
   ]
  },
  {
   "cell_type": "code",
   "execution_count": 2,
   "metadata": {},
   "outputs": [
    {
     "name": "stdout",
     "output_type": "stream",
     "text": [
      "Original array: array('i', [1, 3, 5, 7, 9])\n",
      "Append 11 at the end of the array:\n",
      "New array: array('i', [1, 3, 5, 7, 9, 11])\n"
     ]
    }
   ],
   "source": [
    "from array import *\n",
    "array_num = array('i', [1, 3, 5, 7, 9])\n",
    "print(\"Original array: \"+str(array_num))\n",
    "print(\"Append 11 at the end of the array:\")\n",
    "array_num.append(11)\n",
    "print(\"New array: \"+str(array_num))"
   ]
  },
  {
   "cell_type": "code",
   "execution_count": null,
   "metadata": {},
   "outputs": [],
   "source": []
  }
 ],
 "metadata": {
  "kernelspec": {
   "display_name": "Python 3",
   "language": "python",
   "name": "python3"
  },
  "language_info": {
   "codemirror_mode": {
    "name": "ipython",
    "version": 3
   },
   "file_extension": ".py",
   "mimetype": "text/x-python",
   "name": "python",
   "nbconvert_exporter": "python",
   "pygments_lexer": "ipython3",
   "version": "3.7.1"
  }
 },
 "nbformat": 4,
 "nbformat_minor": 2
}
