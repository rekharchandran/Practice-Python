{
 "cells": [
  {
   "cell_type": "markdown",
   "metadata": {},
   "source": [
    "The parameter weekday is True if it is a weekday, and the parameter vacation is True if we are on vacation. We sleep in if it is not a weekday or we're on vacation. Return True if we sleep in.\n",
    "\n",
    "\n",
    "sleep_in(False, False) → True\n",
    "sleep_in(True, False) → False\n",
    "sleep_in(False, True) → True"
   ]
  },
  {
   "cell_type": "code",
   "execution_count": 1,
   "metadata": {},
   "outputs": [],
   "source": [
    "def sleep_in(weekday, vacation):\n",
    "  if not weekday or vacation:\n",
    "    return True\n",
    "  else:\n",
    "    return False\n",
    "  "
   ]
  },
  {
   "cell_type": "code",
   "execution_count": 5,
   "metadata": {},
   "outputs": [
    {
     "name": "stdout",
     "output_type": "stream",
     "text": [
      "weekend\n"
     ]
    }
   ],
   "source": [
    "day = \"Tuesday\"\n",
    "\n",
    "if day == 'weekday':\n",
    "   print(\"not sleep!\")\n",
    "elif day == 'vacation':\n",
    "    print(\"sleep\")\n",
    "else: \n",
    "    print('weekend')"
   ]
  },
  {
   "cell_type": "markdown",
   "metadata": {},
   "source": [
    "\n",
    "We have two monkeys, a and b, and the parameters a_smile and b_smile indicate if each is smiling. We are in trouble if they are both smiling or if neither of them is smiling. Return True if we are in trouble."
   ]
  },
  {
   "cell_type": "code",
   "execution_count": 38,
   "metadata": {},
   "outputs": [
    {
     "ename": "IndentationError",
     "evalue": "unindent does not match any outer indentation level (<tokenize>, line 3)",
     "output_type": "error",
     "traceback": [
      "\u001b[0;36m  File \u001b[0;32m\"<tokenize>\"\u001b[0;36m, line \u001b[0;32m3\u001b[0m\n\u001b[0;31m    if a_smile and b_smile:\u001b[0m\n\u001b[0m    ^\u001b[0m\n\u001b[0;31mIndentationError\u001b[0m\u001b[0;31m:\u001b[0m unindent does not match any outer indentation level\n"
     ]
    }
   ],
   "source": [
    "def monkey_trouble(a_smile, b_smile):\n",
    "  if a_smile and b_smile:\n",
    "    return True\n",
    "  if not a_smile and not b_smile:\n",
    "    return True\n",
    "  return False"
   ]
  },
  {
   "cell_type": "code",
   "execution_count": 36,
   "metadata": {},
   "outputs": [
    {
     "ename": "NameError",
     "evalue": "name 'a_smile' is not defined",
     "output_type": "error",
     "traceback": [
      "\u001b[0;31m---------------------------------------------------------------------------\u001b[0m",
      "\u001b[0;31mNameError\u001b[0m                                 Traceback (most recent call last)",
      "\u001b[0;32m<ipython-input-36-1e5c91398de3>\u001b[0m in \u001b[0;36m<module>\u001b[0;34m\u001b[0m\n\u001b[0;32m----> 1\u001b[0;31m \u001b[0mmonkey_trouble\u001b[0m\u001b[0;34m(\u001b[0m\u001b[0ma_smile\u001b[0m\u001b[0;34m)\u001b[0m\u001b[0;34m\u001b[0m\u001b[0;34m\u001b[0m\u001b[0m\n\u001b[0m",
      "\u001b[0;31mNameError\u001b[0m: name 'a_smile' is not defined"
     ]
    }
   ],
   "source": [
    "monkey_trouble(a_smile)"
   ]
  },
  {
   "cell_type": "markdown",
   "metadata": {},
   "source": [
    "Given two int values, return their sum. Unless the two values are the same, then return double their sum.\n",
    "\n",
    "\n",
    "sum_double(1, 2) → 3\n",
    "sum_double(3, 2) → 5\n",
    "sum_double(2, 2) → 8"
   ]
  },
  {
   "cell_type": "code",
   "execution_count": 20,
   "metadata": {},
   "outputs": [
    {
     "ename": "NameError",
     "evalue": "name 'a' is not defined",
     "output_type": "error",
     "traceback": [
      "\u001b[0;31m---------------------------------------------------------------------------\u001b[0m",
      "\u001b[0;31mNameError\u001b[0m                                 Traceback (most recent call last)",
      "\u001b[0;32mcell_name\u001b[0m in \u001b[0;36masync-def-wrapper\u001b[0;34m()\u001b[0m\n",
      "\u001b[0;31mNameError\u001b[0m: name 'a' is not defined"
     ]
    }
   ],
   "source": [
    "def sum_double(a, b):\n",
    "  # Store the sum in a local variable\n",
    "  sum = a + b\n",
    "  \n",
    "  # Double it if a and b are the same\n",
    "if a == b:\n",
    "          sum = sum * 2\n",
    "          return sum"
   ]
  },
  {
   "cell_type": "markdown",
   "metadata": {},
   "source": [
    "Given an int n, return the absolute difference between n and 21, except return double the absolute difference if n is over 21.\n",
    "diff21(19) → 2\n",
    "diff21(10) → 11\n",
    "diff21(21) → 0\n"
   ]
  },
  {
   "cell_type": "code",
   "execution_count": 21,
   "metadata": {},
   "outputs": [],
   "source": [
    "def diff21(n):\n",
    "  if n <= 21:\n",
    "    return 21 - n\n",
    "  else:\n",
    "    return (n - 21) * 2"
   ]
  },
  {
   "cell_type": "code",
   "execution_count": 32,
   "metadata": {},
   "outputs": [
    {
     "data": {
      "text/plain": [
       "136"
      ]
     },
     "execution_count": 32,
     "metadata": {},
     "output_type": "execute_result"
    }
   ],
   "source": [
    "diff21(89)"
   ]
  },
  {
   "cell_type": "code",
   "execution_count": 23,
   "metadata": {},
   "outputs": [],
   "source": [
    "def ragnarock_marketing(number, div1, div2):\n",
    "  if number % div1 == 0 and number %div2 == 0:\n",
    "    return 'RagnarRock'\n",
    "  elif number % div1 == 0:\n",
    "    return 'Ragnar'\n",
    "  elif number % div2 == 0:\n",
    "   return 'Rock'\n",
    "  else: return str(number) "
   ]
  },
  {
   "cell_type": "code",
   "execution_count": 24,
   "metadata": {},
   "outputs": [
    {
     "data": {
      "text/plain": [
       "'5'"
      ]
     },
     "execution_count": 24,
     "metadata": {},
     "output_type": "execute_result"
    }
   ],
   "source": [
    "ragnarock_marketing(5, 2, 3)"
   ]
  },
  {
   "cell_type": "code",
   "execution_count": 25,
   "metadata": {},
   "outputs": [
    {
     "data": {
      "text/plain": [
       "'11'"
      ]
     },
     "execution_count": 25,
     "metadata": {},
     "output_type": "execute_result"
    }
   ],
   "source": [
    "ragnarock_marketing(11, 2, 3)"
   ]
  },
  {
   "cell_type": "code",
   "execution_count": 26,
   "metadata": {},
   "outputs": [
    {
     "data": {
      "text/plain": [
       "'RagnarRock'"
      ]
     },
     "execution_count": 26,
     "metadata": {},
     "output_type": "execute_result"
    }
   ],
   "source": [
    "ragnarock_marketing(12, 2, 3)"
   ]
  },
  {
   "cell_type": "code",
   "execution_count": 27,
   "metadata": {},
   "outputs": [
    {
     "data": {
      "text/plain": [
       "'13'"
      ]
     },
     "execution_count": 27,
     "metadata": {},
     "output_type": "execute_result"
    }
   ],
   "source": [
    "ragnarock_marketing(13, 2, 3)"
   ]
  },
  {
   "cell_type": "code",
   "execution_count": 28,
   "metadata": {},
   "outputs": [
    {
     "data": {
      "text/plain": [
       "'Rock'"
      ]
     },
     "execution_count": 28,
     "metadata": {},
     "output_type": "execute_result"
    }
   ],
   "source": [
    "ragnarock_marketing(15, 21, 5) "
   ]
  },
  {
   "cell_type": "markdown",
   "metadata": {},
   "source": [
    "We have a loud talking parrot. The \"hour\" parameter is the current hour time in the range 0..23. We are in trouble if the parrot is talking and the hour is before 7 or after 20. Return True if we are in trouble."
   ]
  },
  {
   "cell_type": "markdown",
   "metadata": {},
   "source": [
    "parrot_trouble(True, 6) → True\n",
    "parrot_trouble(True, 7) → False\n",
    "parrot_trouble(False, 6) → False"
   ]
  },
  {
   "cell_type": "code",
   "execution_count": null,
   "metadata": {},
   "outputs": [],
   "source": [
    "def parrot_trouble(talking, hour):\n",
    " if taklking"
   ]
  },
  {
   "cell_type": "code",
   "execution_count": 39,
   "metadata": {},
   "outputs": [],
   "source": [
    "def parrot_trouble(talking, hour):\n",
    "  return (talking and (hour < 7 or hour > 20))"
   ]
  },
  {
   "cell_type": "code",
   "execution_count": 53,
   "metadata": {},
   "outputs": [
    {
     "name": "stdout",
     "output_type": "stream",
     "text": [
      "Even\n"
     ]
    }
   ],
   "source": [
    "x=00\n",
    "r = x%2\n",
    "if r ==0:\n",
    "    print(\"Even\")\n",
    "elif r == 1:\n",
    "    print('odd') \n",
    "else:\n",
    "    print(\"bye\")"
   ]
  },
  {
   "cell_type": "code",
   "execution_count": 54,
   "metadata": {},
   "outputs": [
    {
     "name": "stdout",
     "output_type": "stream",
     "text": [
      "8\n",
      "Weird\n"
     ]
    }
   ],
   "source": [
    "n = int(input().strip())\n",
    "check = {True: \"Not Weird\", False: \"Weird\"}\n",
    "\n",
    "print(check[\n",
    "        n%2==0 and (\n",
    "            n in range(2,6) or \n",
    "            n > 20)\n",
    "    ])"
   ]
  },
  {
   "cell_type": "code",
   "execution_count": 59,
   "metadata": {},
   "outputs": [
    {
     "name": "stdout",
     "output_type": "stream",
     "text": [
      "89\n",
      "not weird\n"
     ]
    }
   ],
   "source": [
    "n= int(input().strip())\n",
    "  \n",
    "if n%2 == 0 and (n in range(6,20)):\n",
    "    print(\"Weird\")\n",
    "elif n in range(2,6):\n",
    "    print(\"not weird\")\n",
    "    \n",
    "else: \n",
    "    print('not weird')\n",
    "\n"
   ]
  },
  {
   "cell_type": "code",
   "execution_count": 60,
   "metadata": {},
   "outputs": [
    {
     "name": "stdout",
     "output_type": "stream",
     "text": [
      "not weird\n"
     ]
    }
   ],
   "source": [
    "n= 2\n",
    "  \n",
    "if n%2 == 0 and (n in range(6,20)):\n",
    "    print(\"Weird\")\n",
    "elif n in range(2,6):\n",
    "    print(\"not weird\")\n",
    "    \n",
    "else: \n",
    "    print('not weird')\n",
    "\n"
   ]
  },
  {
   "cell_type": "markdown",
   "metadata": {},
   "source": [
    "Read two integers from STDIN and print three lines where:\n",
    "\n",
    "The first line contains the sum of the two numbers.\n",
    "The second line contains the difference of the two numbers (first - second).\n",
    "The third line contains the product of the two numbers."
   ]
  },
  {
   "cell_type": "code",
   "execution_count": 62,
   "metadata": {},
   "outputs": [
    {
     "name": "stdout",
     "output_type": "stream",
     "text": [
      "56\n",
      "78\n",
      "134 \n",
      "-22 \n",
      "4368\n"
     ]
    }
   ],
   "source": [
    "a = int(input())\n",
    "b = int(input())\n",
    "\n",
    "print('{0} \\n{1} \\n{2}'.format((a + b), (a - b), (a * b)))"
   ]
  },
  {
   "cell_type": "markdown",
   "metadata": {},
   "source": [
    "Create a function that takes two numbers as arguments and return their sum."
   ]
  },
  {
   "cell_type": "code",
   "execution_count": 63,
   "metadata": {},
   "outputs": [
    {
     "name": "stdout",
     "output_type": "stream",
     "text": [
      "4\n",
      "5\n",
      "9\n"
     ]
    }
   ],
   "source": [
    "a = int(input())\n",
    "b = int(input())\n",
    "\n",
    "print(a+ b)"
   ]
  },
  {
   "cell_type": "code",
   "execution_count": 71,
   "metadata": {},
   "outputs": [],
   "source": [
    "def addition(a, b):\n",
    "\treturn a + b"
   ]
  },
  {
   "cell_type": "code",
   "execution_count": 72,
   "metadata": {},
   "outputs": [
    {
     "data": {
      "text/plain": [
       "5"
      ]
     },
     "execution_count": 72,
     "metadata": {},
     "output_type": "execute_result"
    }
   ],
   "source": [
    "addition(2,3)"
   ]
  },
  {
   "cell_type": "code",
   "execution_count": 70,
   "metadata": {},
   "outputs": [
    {
     "data": {
      "text/plain": [
       "5"
      ]
     },
     "execution_count": 70,
     "metadata": {},
     "output_type": "execute_result"
    }
   ],
   "source": [
    "def addition(a, b):\n",
    "  return(a+b)\n",
    "addition(2,3)"
   ]
  },
  {
   "cell_type": "markdown",
   "metadata": {},
   "source": [
    "Write a function that takes an integer minutes and converts it to seconds."
   ]
  },
  {
   "cell_type": "code",
   "execution_count": 73,
   "metadata": {},
   "outputs": [],
   "source": [
    "def convert(minutes):\n",
    " return minutes*60\n",
    "    "
   ]
  },
  {
   "cell_type": "code",
   "execution_count": 83,
   "metadata": {},
   "outputs": [
    {
     "name": "stdout",
     "output_type": "stream",
     "text": [
      "Enter a number of seconds: 78\n",
      "0 days, 0 hours, 1 minutes, 18 seconds.\n"
     ]
    }
   ],
   "source": [
    "seconds_in_day = 86400\n",
    "seconds_in_hour = 3600\n",
    "seconds_in_minute = 60\n",
    "\n",
    "seconds = int(input(\"Enter a number of seconds: \"))\n",
    "\n",
    "days = seconds // seconds_in_day\n",
    "seconds = seconds - (days * seconds_in_day)\n",
    "\n",
    "hours = seconds // seconds_in_hour\n",
    "seconds = seconds - (hours * seconds_in_hour)\n",
    "\n",
    "minutes = seconds // seconds_in_minute\n",
    "seconds = seconds - (minutes * seconds_in_minute)\n",
    "\n",
    "print(\"{0:.0f} days, {1:.0f} hours, {2:.0f} minutes, {3:.0f} seconds.\".format(\n",
    "    days, hours, minutes, seconds))"
   ]
  },
  {
   "cell_type": "code",
   "execution_count": null,
   "metadata": {},
   "outputs": [],
   "source": []
  }
 ],
 "metadata": {
  "kernelspec": {
   "display_name": "Python 3",
   "language": "python",
   "name": "python3"
  },
  "language_info": {
   "codemirror_mode": {
    "name": "ipython",
    "version": 3
   },
   "file_extension": ".py",
   "mimetype": "text/x-python",
   "name": "python",
   "nbconvert_exporter": "python",
   "pygments_lexer": "ipython3",
   "version": "3.7.1"
  }
 },
 "nbformat": 4,
 "nbformat_minor": 2
}
