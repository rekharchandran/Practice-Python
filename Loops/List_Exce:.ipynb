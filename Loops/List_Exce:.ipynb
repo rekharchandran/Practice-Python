{
 "cells": [
  {
   "cell_type": "markdown",
   "metadata": {},
   "source": [
    "   # Lists"
   ]
  },
  {
   "cell_type": "code",
   "execution_count": 21,
   "metadata": {},
   "outputs": [],
   "source": [
    "import random\n"
   ]
  },
  {
   "cell_type": "code",
   "execution_count": 22,
   "metadata": {},
   "outputs": [
    {
     "name": "stdout",
     "output_type": "stream",
     "text": [
      "Heads\n"
     ]
    }
   ],
   "source": [
    "random_side = random.randint(0,1)\n",
    "if random_side == 1:\n",
    "    print(\"Heads\")\n",
    "else:\n",
    "    print(\"Tails\")"
   ]
  },
  {
   "cell_type": "code",
   "execution_count": 29,
   "metadata": {},
   "outputs": [
    {
     "name": "stdout",
     "output_type": "stream",
     "text": [
      "Give me everybody's names, separated by a comma.Tovi, Prithvi, Fahad, Asif\n",
      " Asifis going to buy the mealtoday\n"
     ]
    }
   ],
   "source": [
    "import random\n",
    "names_string = input(\"Give me everybody's names, separated by a comma.\")\n",
    "names= names_string.split(\",\")\n",
    "num_items = (len(names))\n",
    "\n",
    "random_choice = random.randint(0,num_items-1)\n",
    "person_who_will_pay=names[random_choice]\n",
    "print(person_who_will_pay  +  \"is going to buy the mealtoday\")"
   ]
  },
  {
   "cell_type": "code",
   "execution_count": 30,
   "metadata": {},
   "outputs": [
    {
     "name": "stdout",
     "output_type": "stream",
     "text": [
      "Give me everybody's names, separated by a comma.paru,lechu, Ammu, pammu\n",
      " pammuis going to buy the mealtoday\n"
     ]
    }
   ],
   "source": [
    "import random\n",
    "names_string = input(\"Give me everybody's names, separated by a comma.\")\n",
    "names= names_string.split(\",\")\n",
    "person_who_will_pay =random.choice(names)\n",
    "print(person_who_will_pay  +  \"is going to buy the mealtoday\")\n"
   ]
  },
  {
   "cell_type": "code",
   "execution_count": 36,
   "metadata": {},
   "outputs": [
    {
     "name": "stdout",
     "output_type": "stream",
     "text": [
      "where do you wan to put the treasure?23\n",
      "['◽️', '◽️', '◽️']\n",
      "['◽️', '◽️', '◽️']\n",
      "['◽️', 'X', '◽️']\n"
     ]
    }
   ],
   "source": [
    "### Treasure Map\n",
    "\n",
    "row1 = [\"◽️\", \"◽️\",\"◽️\"]\n",
    "row2 = [\"◽️\",\"◽️\",\"◽️\"]\n",
    "row3 = [\"◽️\",\"◽️\",\"◽️\"]\n",
    "map = [row1,row2,row3]\n",
    "#print(f\"{row1}\\n{row2}\\n{row3}\")\n",
    "position = input(\"where do you wan to put the treasure?\")\n",
    "horizontal =int( position[0] )\n",
    "vertical = int(position[1])\n",
    "selected_row = map[vertical - 1]\n",
    "selected_row[horizontal -1] = \"X\"\n",
    "print(f\"{row1}\\n{row2}\\n{row3}\")\n",
    "\n"
   ]
  },
  {
   "cell_type": "code",
   "execution_count": null,
   "metadata": {},
   "outputs": [],
   "source": []
  }
 ],
 "metadata": {
  "kernelspec": {
   "display_name": "Python 3",
   "language": "python",
   "name": "python3"
  },
  "language_info": {
   "codemirror_mode": {
    "name": "ipython",
    "version": 3
   },
   "file_extension": ".py",
   "mimetype": "text/x-python",
   "name": "python",
   "nbconvert_exporter": "python",
   "pygments_lexer": "ipython3",
   "version": "3.8.5"
  }
 },
 "nbformat": 4,
 "nbformat_minor": 4
}
