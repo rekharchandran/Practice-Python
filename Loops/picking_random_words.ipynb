{
 "cells": [
  {
   "cell_type": "code",
   "execution_count": null,
   "metadata": {},
   "outputs": [],
   "source": [
    "### Picking a Random Words and Checking Answers"
   ]
  },
  {
   "cell_type": "code",
   "execution_count": 7,
   "metadata": {},
   "outputs": [],
   "source": [
    "import numpy as np\n",
    "import pandas as pd\n",
    "import random"
   ]
  },
  {
   "cell_type": "code",
   "execution_count": 15,
   "metadata": {},
   "outputs": [
    {
     "name": "stdout",
     "output_type": "stream",
     "text": [
      "Guess a letter:a\n",
      "Wrong\n",
      "Right\n",
      "Wrong\n",
      "Wrong\n",
      "Wrong\n"
     ]
    }
   ],
   "source": [
    "word_list = [\"ardvark\", \"baboon\",\"camel\"]\n",
    "chosen_word = random.choice(word_list)\n",
    "guess = input(\"Guess a letter:\").lower()\n",
    "for letter in chosen_word:\n",
    "    if letter == guess:\n",
    "        print(\"Right\")\n",
    "    else:\n",
    "        print(\"Wrong\")\n"
   ]
  },
  {
   "cell_type": "code",
   "execution_count": 21,
   "metadata": {},
   "outputs": [
    {
     "name": "stdout",
     "output_type": "stream",
     "text": [
      "Psst, the solution is camel.\n",
      "['_', '_', '_', '_', '_']\n",
      "Guess a letter:o\n",
      "['_', '_', '_', '_', '_']\n",
      "['_', '_', '_', '_', '_']\n",
      "['_', '_', '_', '_', '_']\n",
      "['_', '_', '_', '_', '_']\n",
      "['_', '_', '_', '_', '_']\n"
     ]
    }
   ],
   "source": [
    "word_list = [\"ardvark\", \"baboon\",\"camel\"]\n",
    "chosen_word = random.choice(word_list)\n",
    "print(f'Psst, the solution is {chosen_word}.')\n",
    "display = []\n",
    "word_length = len(chosen_word)\n",
    "for _ in range(word_length):\n",
    "    display += \"_\"\n",
    "print(display)\n",
    "guess = input(\"Guess a letter:\").lower()\n",
    "for position in range(word_length):\n",
    "    letter = chosen_word[position]\n",
    "    if letter == guess:\n",
    "         display [position] == letter\n",
    "    print(display)\n",
    "\n"
   ]
  },
  {
   "cell_type": "code",
   "execution_count": 17,
   "metadata": {},
   "outputs": [
    {
     "name": "stdout",
     "output_type": "stream",
     "text": [
      "Psst, the solution is baboon.\n",
      "['_', '_', '_', '_', '_', '_']\n",
      "Guess a letter:a\n"
     ]
    }
   ],
   "source": [
    "word_list = [\"ardvark\", \"baboon\",\"camel\"]\n",
    "chosen_word = random.choice(word_list)\n",
    "print(f'Psst, the solution is {chosen_word}.')\n",
    "display = []\n",
    "word_length = len(chosen_word)\n",
    "for position in range(len(word_length)):\n",
    "    letter = chosen_word[position]\n",
    "    if letter == guess:\n",
    "         display [position] == letter\n",
    "print(display)\n"
   ]
  }
 ],
 "metadata": {
  "kernelspec": {
   "display_name": "Python 3",
   "language": "python",
   "name": "python3"
  },
  "language_info": {
   "codemirror_mode": {
    "name": "ipython",
    "version": 3
   },
   "file_extension": ".py",
   "mimetype": "text/x-python",
   "name": "python",
   "nbconvert_exporter": "python",
   "pygments_lexer": "ipython3",
   "version": "3.8.5"
  }
 },
 "nbformat": 4,
 "nbformat_minor": 4
}
