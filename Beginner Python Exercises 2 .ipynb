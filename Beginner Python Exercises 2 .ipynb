{
 "cells": [
  {
   "cell_type": "markdown",
   "metadata": {},
   "source": [
    "### Excercise 1\n",
    "#### You are given an array (which will have a length of at least 3, but could be very large) containing integers. The array is either entirely comprised of odd integers or entirely comprised of even integers except for a single integer N.\n",
    "\n",
    "#### Write a method that takes the array as an argument and returns this \"outlier\" N.\n",
    "\n",
    "   \n"
   ]
  },
  {
   "cell_type": "code",
   "execution_count": 1,
   "metadata": {},
   "outputs": [],
   "source": [
    "def find_outlier(integers):\n",
    "    new_integers = [int(integer%2) for integer in integers]\n",
    "    if new_integers.count(0) == 1:\n",
    "        return integers[new_integers.index(0)]\n",
    "    else:\n",
    "        return integers[new_integers.index(1)]"
   ]
  },
  {
   "cell_type": "code",
   "execution_count": 3,
   "metadata": {},
   "outputs": [
    {
     "data": {
      "text/plain": [
       "16"
      ]
     },
     "execution_count": 3,
     "metadata": {},
     "output_type": "execute_result"
    }
   ],
   "source": [
    "find_outlier ([3,5,7,9,11,15,16,17,19])"
   ]
  },
  {
   "cell_type": "markdown",
   "metadata": {},
   "source": [
    "### Excercise 2\n",
    "#### Your goal in this task is to implement a difference function, which subtracts one list from another and returns the result.\n",
    "\n",
    "#### It should remove all values from list a, which are present in list b."
   ]
  },
  {
   "cell_type": "code",
   "execution_count": 4,
   "metadata": {},
   "outputs": [],
   "source": [
    "def array_diff(a, b):\n",
    "  \n",
    "    return [item for item in a if item not in list(set(a) & set(b))]\n",
    "\n"
   ]
  },
  {
   "cell_type": "code",
   "execution_count": 5,
   "metadata": {},
   "outputs": [
    {
     "data": {
      "text/plain": [
       "[2]"
      ]
     },
     "execution_count": 5,
     "metadata": {},
     "output_type": "execute_result"
    }
   ],
   "source": [
    "array_diff([1,2],[1])"
   ]
  },
  {
   "cell_type": "code",
   "execution_count": 6,
   "metadata": {},
   "outputs": [],
   "source": [
    "def Diff(a, b): \n",
    "    li_dif = [i for i in a + b if i not in a or i not in b] \n",
    "    return li_dif"
   ]
  },
  {
   "cell_type": "code",
   "execution_count": 7,
   "metadata": {},
   "outputs": [
    {
     "data": {
      "text/plain": [
       "[2]"
      ]
     },
     "execution_count": 7,
     "metadata": {},
     "output_type": "execute_result"
    }
   ],
   "source": [
    "Diff([1,2],[1])"
   ]
  },
  {
   "cell_type": "markdown",
   "metadata": {},
   "source": [
    "### Excercise 3\n",
    "#### Given: an array containing hashes of names\n",
    "\n",
    "#### Return: a string formatted as a list of names separated by commas except for the last two names, which should be separated by an ampersand."
   ]
  },
  {
   "cell_type": "code",
   "execution_count": 8,
   "metadata": {},
   "outputs": [],
   "source": [
    "def namelist(names):\n",
    "    names = [item['name'] for item in names]\n",
    "    if names:\n",
    "        ','.join(names)\n",
    "        if len(names)>2:\n",
    "            return(','.join(names[:-1]) + \"&\"+ str(names[-1]))\n",
    "        elif len(names)==2:\n",
    "            return('&'.join(names))\n",
    "        elif len(names)==1:\n",
    "            return(names[0])\n",
    "        return''"
   ]
  },
  {
   "cell_type": "code",
   "execution_count": 9,
   "metadata": {},
   "outputs": [
    {
     "data": {
      "text/plain": [
       "'Bart,Lisa,Maggie,Homer&Marge'"
      ]
     },
     "execution_count": 9,
     "metadata": {},
     "output_type": "execute_result"
    }
   ],
   "source": [
    "namelist([{'name': 'Bart'},{'name': 'Lisa'},{'name': 'Maggie'},{'name': 'Homer'},{'name': 'Marge'}])"
   ]
  },
  {
   "cell_type": "markdown",
   "metadata": {},
   "source": [
    "### Excercise 4\n",
    "####  create a function that takes a list of non-negative integers and strings and returns a new list with the strings filtered out."
   ]
  },
  {
   "cell_type": "code",
   "execution_count": 11,
   "metadata": {},
   "outputs": [],
   "source": [
    "def filter_list(l):\n",
    "  l = [item for item in l if isinstance(item, int) == True ]\n",
    " \n",
    "  return l"
   ]
  },
  {
   "cell_type": "code",
   "execution_count": 12,
   "metadata": {},
   "outputs": [
    {
     "data": {
      "text/plain": [
       "[1, 2]"
      ]
     },
     "execution_count": 12,
     "metadata": {},
     "output_type": "execute_result"
    }
   ],
   "source": [
    "filter_list([1,2,'a','b'])"
   ]
  },
  {
   "cell_type": "code",
   "execution_count": 16,
   "metadata": {},
   "outputs": [],
   "source": [
    "def filter_list(a,b):\n",
    "    \n",
    "    for item in list:\n",
    "        \n",
    "        if item not in list_b:\n",
    "            # 3.\n",
    "            new_list.append(item) # \n",
    "        "
   ]
  },
  {
   "cell_type": "markdown",
   "metadata": {},
   "source": [
    "### Excercise 5\n",
    "####  find the int that appears an odd number of times.\n",
    "\n",
    "#### There will always be only one integer that appears an odd number of times.\n",
    "\n"
   ]
  },
  {
   "cell_type": "code",
   "execution_count": 26,
   "metadata": {},
   "outputs": [],
   "source": [
    "def find_it(seq):\n",
    "  for item in set(seq):\n",
    "    if seq.count(item) % 2 == 1:\n",
    "      return item \n",
    "  \n"
   ]
  },
  {
   "cell_type": "code",
   "execution_count": 27,
   "metadata": {},
   "outputs": [
    {
     "data": {
      "text/plain": [
       "5"
      ]
     },
     "execution_count": 27,
     "metadata": {},
     "output_type": "execute_result"
    }
   ],
   "source": [
    "find_it([20,1,-1,2,-2,3,3,5,5,1,2,4,20,4,-1,-2,5])"
   ]
  },
  {
   "cell_type": "markdown",
   "metadata": {},
   "source": [
    "### Excercise 6\n",
    "#### Check to see if a string has the same amount of ’x’s and ’o’s. The method must return a boolean and be case insensitive. The string can contain any char."
   ]
  },
  {
   "cell_type": "code",
   "execution_count": 28,
   "metadata": {},
   "outputs": [],
   "source": [
    "def xo(s):\n",
    "  if s.lower().count('x') !=  s.lower().count('o'):\n",
    "     return False\n",
    "  return True"
   ]
  },
  {
   "cell_type": "code",
   "execution_count": 33,
   "metadata": {},
   "outputs": [
    {
     "data": {
      "text/plain": [
       "True"
      ]
     },
     "execution_count": 33,
     "metadata": {},
     "output_type": "execute_result"
    }
   ],
   "source": [
    "xo('ooxx')"
   ]
  },
  {
   "cell_type": "code",
   "execution_count": 34,
   "metadata": {},
   "outputs": [
    {
     "data": {
      "text/plain": [
       "False"
      ]
     },
     "execution_count": 34,
     "metadata": {},
     "output_type": "execute_result"
    }
   ],
   "source": [
    "xo('xooxx')"
   ]
  },
  {
   "cell_type": "code",
   "execution_count": 36,
   "metadata": {},
   "outputs": [
    {
     "data": {
      "text/plain": [
       "True"
      ]
     },
     "execution_count": 36,
     "metadata": {},
     "output_type": "execute_result"
    }
   ],
   "source": [
    "xo('zpzpzpp')"
   ]
  },
  {
   "cell_type": "markdown",
   "metadata": {},
   "source": [
    "### Excercise 7\n",
    "#### ATM machines allow 4 or 6 digit PIN codes and PIN codes cannot contain anything but exactly 4 digits or exactly 6 digits.\n",
    "\n",
    "If the function is passed a valid PIN string, return true, else return false."
   ]
  },
  {
   "cell_type": "code",
   "execution_count": 37,
   "metadata": {},
   "outputs": [],
   "source": [
    "def validate_pin(s):\n",
    "  s = list(s)\n",
    "  n = []\n",
    "\n",
    "  for item in s:\n",
    "    try:\n",
    "      n.append(int(item))\n",
    "    except:\n",
    "      return False\n",
    "  \n",
    "  print(len(n))\n",
    "  \n",
    "  if (len(n) == 4 or len(n) == 6):\n",
    "    return True\n",
    "  else:\n",
    "    return False\n",
    "          "
   ]
  },
  {
   "cell_type": "code",
   "execution_count": 39,
   "metadata": {},
   "outputs": [
    {
     "name": "stdout",
     "output_type": "stream",
     "text": [
      "4\n"
     ]
    },
    {
     "data": {
      "text/plain": [
       "True"
      ]
     },
     "execution_count": 39,
     "metadata": {},
     "output_type": "execute_result"
    }
   ],
   "source": [
    "validate_pin(\"1234\")"
   ]
  },
  {
   "cell_type": "code",
   "execution_count": 40,
   "metadata": {},
   "outputs": [
    {
     "data": {
      "text/plain": [
       "False"
      ]
     },
     "execution_count": 40,
     "metadata": {},
     "output_type": "execute_result"
    }
   ],
   "source": [
    "validate_pin('a234')"
   ]
  },
  {
   "cell_type": "markdown",
   "metadata": {},
   "source": [
    "### Excercise 8\n",
    "#### Simple, given a string of words, return the length of the shortest word(s).\n",
    "\n",
    "#### String will never be empty and you do not need to account for different data types."
   ]
  },
  {
   "cell_type": "code",
   "execution_count": 41,
   "metadata": {},
   "outputs": [],
   "source": [
    "\n",
    "def len_shortest_word(s):\n",
    "  return min(list(map(len, s.split())))"
   ]
  },
  {
   "cell_type": "code",
   "execution_count": 42,
   "metadata": {},
   "outputs": [
    {
     "data": {
      "text/plain": [
       "3"
      ]
     },
     "execution_count": 42,
     "metadata": {},
     "output_type": "execute_result"
    }
   ],
   "source": [
    "len_shortest_word('Hello how are you')"
   ]
  },
  {
   "cell_type": "markdown",
   "metadata": {},
   "source": [
    "### Excercise 9\n",
    "#### Find the missing letter\n",
    "\n",
    "#### Write a method that takes an array of consecutive (increasing) letters as input and that returns the missing letter in the array.\n",
    "\n",
    "You will always get an valid array. And it will be always exactly one letter be missing. The length of the array will always be at least 2.\n",
    "The array will always contain letters in only one case.\n"
   ]
  },
  {
   "cell_type": "code",
   "execution_count": 43,
   "metadata": {},
   "outputs": [],
   "source": [
    "import string\n",
    "def find_missing_letter(s):\n",
    "  alp_lower = list(string.ascii_lowercase)\n",
    "  alp_upper = list(string.ascii_uppercase)\n",
    "  \n",
    "  s1 = ''.join(s)\n",
    "  \n",
    "  if s1.isupper():\n",
    "    x = set(alp_upper[alp_upper.index(s[0]):alp_upper.index(s[-1])+1]) - set(s)\n",
    "    return x.pop()\n",
    "  else: \n",
    "    x = set(alp_lower[alp_lower.index(s[0]):alp_lower.index(s[-1]) + 1]) - set(s)\n",
    "    return x.pop()\n",
    "    "
   ]
  },
  {
   "cell_type": "code",
   "execution_count": 44,
   "metadata": {},
   "outputs": [
    {
     "data": {
      "text/plain": [
       "'e'"
      ]
     },
     "execution_count": 44,
     "metadata": {},
     "output_type": "execute_result"
    }
   ],
   "source": [
    "s = ['a','b','c','d','f']\n",
    "     \n",
    "find_missing_letter(s)"
   ]
  },
  {
   "cell_type": "code",
   "execution_count": 45,
   "metadata": {},
   "outputs": [
    {
     "data": {
      "text/plain": [
       "['a',\n",
       " 'b',\n",
       " 'c',\n",
       " 'd',\n",
       " 'e',\n",
       " 'f',\n",
       " 'g',\n",
       " 'h',\n",
       " 'i',\n",
       " 'j',\n",
       " 'k',\n",
       " 'l',\n",
       " 'm',\n",
       " 'n',\n",
       " 'o',\n",
       " 'p',\n",
       " 'q',\n",
       " 'r',\n",
       " 's',\n",
       " 't',\n",
       " 'u',\n",
       " 'v',\n",
       " 'w',\n",
       " 'x',\n",
       " 'y',\n",
       " 'z']"
      ]
     },
     "execution_count": 45,
     "metadata": {},
     "output_type": "execute_result"
    }
   ],
   "source": [
    "import string\n",
    "list(string.ascii_lowercase)"
   ]
  },
  {
   "cell_type": "markdown",
   "metadata": {},
   "source": [
    "### Excercise 10\n",
    "\n",
    "#### Make a program that filters a list of strings and returns a list with only your friends name in it.\n",
    "\n",
    "#### If a name has exactly 4 letters in it, you can be sure that it has to be a friend of yours! Otherwise, you can be sure he /she is not."
   ]
  },
  {
   "cell_type": "code",
   "execution_count": 4,
   "metadata": {},
   "outputs": [],
   "source": [
    "def friend(x):\n",
    "   return [i for i in x if len(i) == 4 ]\n",
    "    "
   ]
  },
  {
   "cell_type": "code",
   "execution_count": 5,
   "metadata": {},
   "outputs": [
    {
     "data": {
      "text/plain": [
       "['Ryan', 'Yous']"
      ]
     },
     "execution_count": 5,
     "metadata": {},
     "output_type": "execute_result"
    }
   ],
   "source": [
    "x =  [\"Ryan\", \"Kieran\", \"Jason\", \"Yous\"]\n",
    "\n",
    "friend(x)"
   ]
  },
  {
   "cell_type": "markdown",
   "metadata": {},
   "source": [
    "### Excercise 11\n",
    "### Count the number of occurrences of each character and return it as a list of tuples in order of appearance."
   ]
  },
  {
   "cell_type": "code",
   "execution_count": 6,
   "metadata": {},
   "outputs": [],
   "source": [
    "def ordered_count(input):\n",
    "  n = []\n",
    "  s = []\n",
    "  \n",
    "  for val in input:\n",
    "    if val not in s:\n",
    "      s.append(val)\n",
    "  \n",
    "  for item in s:\n",
    "    n.append(input.count(item))\n",
    "  return list(tuple(zip(s,n)))\n",
    "      "
   ]
  },
  {
   "cell_type": "code",
   "execution_count": 7,
   "metadata": {},
   "outputs": [],
   "source": [
    "ordered_count =  ('abracadabra')\n",
    "\n",
    "\n"
   ]
  },
  {
   "cell_type": "code",
   "execution_count": 8,
   "metadata": {},
   "outputs": [],
   "source": [
    "def ordered_count(input):\n",
    " \n",
    "    already = []\n",
    "    input_list = list(input)\n",
    "    return_list = []\n",
    "    for word in input_list:\n",
    "        if(word not in already):\n",
    "            return_list.append((word, input_list.count(word)))\n",
    "            already.append(word)\n",
    " \n",
    "    return return_list"
   ]
  },
  {
   "cell_type": "code",
   "execution_count": 9,
   "metadata": {},
   "outputs": [
    {
     "data": {
      "text/plain": [
       "[('a', 5), ('b', 2), ('r', 2), ('c', 1), ('d', 1)]"
      ]
     },
     "execution_count": 9,
     "metadata": {},
     "output_type": "execute_result"
    }
   ],
   "source": [
    "ordered_count(\"abracadabra\")"
   ]
  },
  {
   "cell_type": "markdown",
   "metadata": {},
   "source": [
    "### Excercise 13\n",
    "#### Write a function that takes a string of braces, and determines if the order of the braces is valid. It should return true if the string is valid, and false if it's invalid.\n",
    "\n",
    "All input strings will be nonempty, and will only consist of parentheses, brackets and curly braces: ()[]{}.\n",
    "\n",
    "What is considered Valid?\n",
    "A string of braces is considered valid if all braces are matched with the correct brace."
   ]
  },
  {
   "cell_type": "code",
   "execution_count": 10,
   "metadata": {},
   "outputs": [],
   "source": [
    "def validBraces(string):\n",
    "    parenthesis = []\n",
    "    pardict = {\"{\":\"}\", \"[\":\"]\", \"(\":\")\", \"}\":\"{\", \"]\":\"[\", \")\":\"(\"}\n",
    "    for i in range(len(string)):\n",
    "        if string[i] == \"(\" or string[i] == \"[\" or string[i] == \"{\":\n",
    "            parenthesis.append(string[i])\n",
    "        else:\n",
    "            if len(parenthesis) == 0:\n",
    "                return False\n",
    "            elif pardict[string[i]] == parenthesis[len(parenthesis)-1]:\n",
    "                del parenthesis[len(parenthesis)-1]\n",
    "            else:\n",
    "                return False\n",
    "    if len(parenthesis) != 0:\n",
    "        return False\n",
    "    return True"
   ]
  },
  {
   "cell_type": "code",
   "execution_count": 11,
   "metadata": {},
   "outputs": [
    {
     "data": {
      "text/plain": [
       "True"
      ]
     },
     "execution_count": 11,
     "metadata": {},
     "output_type": "execute_result"
    }
   ],
   "source": [
    " validBraces(\"(){}[]\")  "
   ]
  },
  {
   "cell_type": "markdown",
   "metadata": {},
   "source": [
    "### Excercise 14\n",
    "\n",
    "#### A Narcissistic Number is a number which is the sum of its own digits, each raised to the power of the number of digits in a given base. In this problem, we will restrict ourselves to decimal (base 10).\n",
    "For example, take 153 (3 digits):\n",
    "\n",
    "    1^3 + 5^3 + 3^3 = 1 + 125 + 27 = 153\n",
    "\n",
    "and 1634 (4 digits):\n",
    "\n",
    "    1^4 + 6^4 + 3^4 + 4^4 = 1 + 1296 + 81 + 256 = 1634\n",
    "\n",
    "\n",
    "The Challenge:\n",
    "\n",
    "Your code must return true or false depending upon whether the given number is a narcissistic number in base 10.\n",
    "\n",
    "Error checking for text strings or other invalid inputs is not required, only valid integers will be passed into the function."
   ]
  },
  {
   "cell_type": "code",
   "execution_count": 14,
   "metadata": {},
   "outputs": [],
   "source": [
    "def narcissistic( value ):\n",
    "    l = len(str(value))\n",
    "    total = 0\n",
    "    for i in str(value):\n",
    "        total += pow(int(i),l)\n",
    "        \n",
    "    if total == value:\n",
    "        return True\n",
    "    else:\n",
    "        return False"
   ]
  },
  {
   "cell_type": "code",
   "execution_count": 15,
   "metadata": {},
   "outputs": [
    {
     "data": {
      "text/plain": [
       "True"
      ]
     },
     "execution_count": 15,
     "metadata": {},
     "output_type": "execute_result"
    }
   ],
   "source": [
    "narcissistic(1634)"
   ]
  },
  {
   "cell_type": "markdown",
   "metadata": {},
   "source": [
    "### Excercise 15\n",
    "#### A pangram is a sentence that contains every single letter of the alphabet at least once. For example, the sentence \"The quick brown fox jumps over the lazy dog\" is a pangram, because it uses the letters A-Z at least once (case is irrelevant).\n",
    "\n",
    "Given a string, detect whether or not it is a pangram. Return True if it is, False if not. Ignore numbers and punctuation."
   ]
  },
  {
   "cell_type": "code",
   "execution_count": 16,
   "metadata": {},
   "outputs": [],
   "source": [
    "import string\n",
    "\n",
    "def is_pangram(s):\n",
    "    s = s.lower()\n",
    "    l = [ s.find(i) for i in string.ascii_lowercase ]\n",
    "    if -1 in l:\n",
    "        return False\n",
    "    else:\n",
    "        return True\n",
    "\n"
   ]
  },
  {
   "cell_type": "code",
   "execution_count": 17,
   "metadata": {},
   "outputs": [
    {
     "data": {
      "text/plain": [
       "True"
      ]
     },
     "execution_count": 17,
     "metadata": {},
     "output_type": "execute_result"
    }
   ],
   "source": [
    "is_pangram(\"The quick, brown fox jumps over the lazy dog!\")"
   ]
  },
  {
   "cell_type": "markdown",
   "metadata": {},
   "source": [
    "### Excercise 16\n",
    "#### In the city of Cartesia, all roads are laid out in a perfect grid. You arrived ten minutes earlier to an appointment, so you decided to take the opportunity to go for a short walk. The city provides its citizens with a Walk Generating App on their phones -- everytime you press the button it sends you an array of one-letter strings representing directions to walk (eg. ['n', 's', 'w', 'e']). You always walk only a single block in a direction and you know it takes you one minute to traverse one city block, so create a function that will return True if the walk the app tells you that you will take exactly ten minutes (you don't want to be early or late!) and will, of course, return to your starting point. Return False otherwise."
   ]
  },
  {
   "cell_type": "code",
   "execution_count": 18,
   "metadata": {},
   "outputs": [],
   "source": [
    "def isValidWalk(walk):\n",
    "    if len(walk) == 10:\n",
    "        if (walk.count('n') == walk.count('s') and walk.count('e') == walk.count('w')):\n",
    "            return True\n",
    "        else:\n",
    "            return False\n",
    "    else:\n",
    "        return False"
   ]
  },
  {
   "cell_type": "code",
   "execution_count": 19,
   "metadata": {},
   "outputs": [
    {
     "data": {
      "text/plain": [
       "False"
      ]
     },
     "execution_count": 19,
     "metadata": {},
     "output_type": "execute_result"
    }
   ],
   "source": [
    "isValidWalk(['n', 's', 'e', 'w', 'e', 's', 'e', 'w', 'n', 's'])"
   ]
  },
  {
   "cell_type": "markdown",
   "metadata": {},
   "source": [
    "### Excercise 17\n",
    "#### You are given an array strarr of strings and an integer k. Your task is to return the first longest string consisting of k consecutive strings taken in the array.\n",
    "Example:\n",
    "longest_consec([\"zone\", \"abigail\", \"theta\", \"form\", \"libe\", \"zas\", \"theta\", \"abigail\"], 2) \"abigailtheta\"\n",
    "\n",
    "n being the length of the string array, if n = 0 or k > n or k <= 0 return \"\".\n",
    "\n",
    "Note\n",
    "consecutive strings : follow one after another without an interruption\n",
    "\n",
    " "
   ]
  },
  {
   "cell_type": "code",
   "execution_count": 21,
   "metadata": {},
   "outputs": [],
   "source": [
    "def longest_consec(strarr, k):\n",
    "    n = len(strarr)\n",
    "    if n == 0 or k > n or k <= 0:\n",
    "        return ''\n",
    "\n",
    "    longest = index = 0\n",
    "    for i in range(n - k + 1):\n",
    "        length = sum([len(s) for s in strarr[i: i + k]])\n",
    "        if length > longest:\n",
    "            longest = length\n",
    "            index = i\n",
    "\n",
    "    return ''.join(strarr[index: index + k])\n",
    "\n"
   ]
  },
  {
   "cell_type": "code",
   "execution_count": 22,
   "metadata": {},
   "outputs": [
    {
     "data": {
      "text/plain": [
       "'abigailtheta'"
      ]
     },
     "execution_count": 22,
     "metadata": {},
     "output_type": "execute_result"
    }
   ],
   "source": [
    "longest_consec([\"zone\", \"abigail\", \"theta\", \"form\", \"libe\", \"zas\"], 2)"
   ]
  },
  {
   "cell_type": "markdown",
   "metadata": {},
   "source": [
    "### Excercise 18\n",
    "#### Alice and Bob were on a holiday. Both of them took many pictures of the places they've been, and now they want to show Charlie their entire collection. However, Charlie doesn't like this sessions, since the motive usually repeats. He isn't fond of seeing the Eiffel tower 40 times. He tells them that he will only sit during the session if they show the same motive at most N times. Luckily, Alice and Bob are able to encode the motive as a number. Can you help them to remove numbers such that their list contains each number only up to N times, without changing the order?\n",
    "\n",
    "#### Task\n",
    "#### Given a list lst and a number N, create a new list that contains each number of lst at most N times without reordering. For example if N = 2, and the input is [1,2,3,1,2,1,2,3], you take [1,2,3,1,2], drop the next [1,2] since this would lead to 1 and 2 being in the result 3 times, and then take 3, which leads to [1,2,3,1,2,3].\n",
    "\n",
    "Example\n",
    "  delete_nth ([1,1,1,1],2)         # return [1,1]\n",
    "\n",
    "  delete_nth ([20,37,20,21],1) # return [20,37,21]"
   ]
  },
  {
   "cell_type": "code",
   "execution_count": 23,
   "metadata": {},
   "outputs": [],
   "source": [
    "def delete_nth(order,max_e):\n",
    "    l = order\n",
    "    n = max_e\n",
    "    occur = []\n",
    "    index = []\n",
    "\n",
    "    unique = list(set(l))\n",
    "\n",
    "    for idx, i in enumerate(unique):\n",
    "        index.append(idx)\n",
    "        occur.append(l.count(i))\n",
    "        \n",
    "    l.reverse()\n",
    "    for idx, val  in enumerate(occur):\n",
    "        while val > n:\n",
    "            l.remove(unique[idx])\n",
    "            val = val -1\n",
    "    \n",
    "    l.reverse() \n",
    "    return l"
   ]
  },
  {
   "cell_type": "code",
   "execution_count": 24,
   "metadata": {},
   "outputs": [
    {
     "data": {
      "text/plain": [
       "[1, 2, 11, 3, 7, 7, 1, 2, 3, 9, 11]"
      ]
     },
     "execution_count": 24,
     "metadata": {},
     "output_type": "execute_result"
    }
   ],
   "source": [
    "delete_nth([1, 2, 11, 3, 7, 7, 1, 2, 1, 2, 3, 9, 11],2)"
   ]
  },
  {
   "cell_type": "markdown",
   "metadata": {},
   "source": [
    "### Excercise 19\n",
    "#### In this problem, given a string, replace every letter with its position in the alphabet.\n",
    "\n",
    "If anything in the text isn't a letter, ignore it and don't return it.\n",
    "\n",
    "\"a\" = 1, \"b\" = 2, etc.\n",
    "\n",
    "Example\n",
    "alphabet_position(\"The sunset sets at twelve o' clock.\")\n",
    "Should return \"20 8 5 19 21 14 19 5 20 19 5 20 19 1 20 20 23 5 12 22 5 15 3 12 15 3 11\" (as a string)\n",
    "\n",
    " "
   ]
  },
  {
   "cell_type": "code",
   "execution_count": 25,
   "metadata": {},
   "outputs": [],
   "source": [
    "import string\n",
    "def alphabet_position(text):\n",
    "    text = text.lower()\n",
    "    text = list(text)    \n",
    "    arr = []\n",
    "    for i in text:\n",
    "        try: arr.append(list(string.ascii_lowercase).index(i) + 1)\n",
    "        except: continue\n",
    "    return ' '.join(str(e) for e in arr)"
   ]
  },
  {
   "cell_type": "code",
   "execution_count": 26,
   "metadata": {},
   "outputs": [
    {
     "data": {
      "text/plain": [
       "'20 8 5 19 21 14 19 5 20 19 5 20 19 1 20 20 23 5 12 22 5 15 3 12 15 3 11'"
      ]
     },
     "execution_count": 26,
     "metadata": {},
     "output_type": "execute_result"
    }
   ],
   "source": [
    "alphabet_position(\"The sunset sets at twelve o' clock.\")"
   ]
  },
  {
   "cell_type": "markdown",
   "metadata": {},
   "source": [
    "### Excercise 20\n",
    "### Bob is preparing to pass IQ test. The most frequent task in this test is to find out which one of the given numbers differs from the others. Bob observed that one number usually differs from the others in evenness. Help Bob — to check his answers, he needs a program that among the given numbers finds one that is different in evenness, and return a position of this number.\n",
    "\n",
    "! Keep in mind that your task is to help Bob solve a real IQ test, which means indexes of the elements start from 1 (not 0)\n",
    "\n",
    "Also, you can not use for loop to solve this,\n",
    "\n",
    "Examples :\n",
    "\n",
    "iq_test(\"2 4 7 8 10\") => 3 // Third number is odd, while the rest of the numbers are even\n",
    "\n",
    "iq_test(\"1 2 1 1\") => 2 // Second number is even, while the rest of the numbers are odd"
   ]
  },
  {
   "cell_type": "code",
   "execution_count": 27,
   "metadata": {},
   "outputs": [],
   "source": [
    "def iq_test(s):\n",
    "  s= s.split()\n",
    "  s = list(map(int, s))\n",
    "  s = list(map(lambda x: x%2, s))\n",
    "  if s.count(0) == 1:\n",
    "    return s.index(0) + 1\n",
    "  else:\n",
    "    return s.index(1) + 1"
   ]
  },
  {
   "cell_type": "markdown",
   "metadata": {},
   "source": [
    "### Excercise 21\n",
    "#### Complete the function scramble(str1, str2) that returns true if a portion of str1 characters can be rearranged to match str2, otherwise returns false.\n",
    "\n",
    "Notes:\n",
    "\n",
    "Only lower case letters will be used (a-z). No punctuation or digits will be included.\n",
    "Performance needs to be considered\n",
    "Input strings s1 and s2 are null terminated.\n",
    "Examples\n",
    "scramble('rkqodlw', 'world')                             ==> True\n",
    "scramble('cedewaraaossoqqyt', 'codewars') ==> True\n",
    "scramble('katas', 'steak')                                   ==> False\n",
    "\n",
    " \n"
   ]
  },
  {
   "cell_type": "code",
   "execution_count": 28,
   "metadata": {},
   "outputs": [],
   "source": [
    "def scramble(s1,s2):\n",
    "    for c in set(s2):\n",
    "        if s1.count(c) < s2.count(c):\n",
    "            return False\n",
    "    return True"
   ]
  },
  {
   "cell_type": "code",
   "execution_count": 29,
   "metadata": {},
   "outputs": [
    {
     "data": {
      "text/plain": [
       "True"
      ]
     },
     "execution_count": 29,
     "metadata": {},
     "output_type": "execute_result"
    }
   ],
   "source": [
    "scramble('cedewaraaossoqqyt', 'codewars') "
   ]
  },
  {
   "cell_type": "markdown",
   "metadata": {},
   "source": [
    "### Excercise 22\n",
    "####  The maximum sum subarray problem consists in finding the maximum sum of a contiguous subsequence in an array or list of integers:\n",
    "\n",
    "maxSequence([-2, 1, -3, 4, -1, 2, 1, -5, 4])\n",
    " It should return 6  that is sum of these 4 numbers [4, -1, 2, 1]\n",
    "Easy case is when the list is made up of only positive numbers and the maximum sum is the sum of the whole array. If the list is made up of only negative numbers, return 0 instead.\n",
    "\n",
    "Empty list is considered to have zero greatest sum. Note that the empty list or array is also a valid sublist/subarray."
   ]
  },
  {
   "cell_type": "code",
   "execution_count": 30,
   "metadata": {},
   "outputs": [],
   "source": [
    "def maxSequence(arr):\n",
    "    \n",
    "    if (not arr) or all(i < 0 for i in arr):\n",
    "        return 0\n",
    "    \n",
    "    max_ending_here = max_so_far = arr[0]\n",
    "\n",
    "    for i in arr[1:]:\n",
    "    # it will give the max sum of the numbers till ending with i   \n",
    "      max_ending_here  = max(i, max_ending_here  + i)  \n",
    "    # max_so_far is updated when max_ending_here exceeds it\n",
    "      max_so_far = max(max_ending_here, max_so_far)\n",
    "    \n",
    "    return max_so_far"
   ]
  },
  {
   "cell_type": "code",
   "execution_count": 31,
   "metadata": {},
   "outputs": [
    {
     "data": {
      "text/plain": [
       "6"
      ]
     },
     "execution_count": 31,
     "metadata": {},
     "output_type": "execute_result"
    }
   ],
   "source": [
    "maxSequence([-2, 1, -3, 4, -1, 2, 1, -5, 4])"
   ]
  },
  {
   "cell_type": "markdown",
   "metadata": {},
   "source": [
    "### Excercise 23\n",
    "#### In a small town in country Dreamland, the initial population is 1000 at the beginning of a year. The population regularly increases by 4 percent per year and recently the town has set up new industries. So,100 new inhabitants come for job or studies every year.\n",
    "### The townhead wants an estimate that in how many years, the the town will get certain population based on varying 'percentage of population growth' and 'number of incoming people'.\n",
    "\n",
    "#### A sample question from townhead would be:\n",
    "\n",
    "How many years does the town need to see its target population greater or equal to 1200 inhabitants?\n",
    "\n",
    "At the end of the first year there will be: \n",
    "1000 + 1000 * 0.04 + 100 => 1140 inhabitants\n",
    "\n",
    "At the end of the 2nd year there will be: \n",
    "1140 + 1140 * 0.04 + 100 =>  1286 inhabitants (population can not be fraction)\n",
    "\n",
    "\n",
    "It will need 2 entire years.\n",
    " \n",
    "\n",
    "More generally given parameters:\n",
    "\n",
    "population(initial population), percent, newcomers, target (population to surpass)\n",
    "\n",
    "the function number_of_years should return n number of entire years needed to get a population greater or equal to target.\n",
    "\n",
    "newcomers is an integer, percent a positive or null number, population and target are positive integers (> 0)\n",
    "\n",
    "Examples:\n",
    "number_of_years(1500, 5, 100, 10000) -> 26\n",
    "number_of_years(1500000, 2.5, 10000, 2000000) -> 10\n",
    " "
   ]
  },
  {
   "cell_type": "code",
   "execution_count": 32,
   "metadata": {},
   "outputs": [],
   "source": [
    "def number_of_years(population, percent, newcomer, target):\n",
    "    year = 0\n",
    "    while population < target:\n",
    "        population += population * percent / 100. + newcomer\n",
    "        year += 1\n",
    "    return year"
   ]
  },
  {
   "cell_type": "code",
   "execution_count": 33,
   "metadata": {},
   "outputs": [
    {
     "data": {
      "text/plain": [
       "26"
      ]
     },
     "execution_count": 33,
     "metadata": {},
     "output_type": "execute_result"
    }
   ],
   "source": [
    "number_of_years(1500, 5, 100, 10000)"
   ]
  },
  {
   "cell_type": "code",
   "execution_count": 34,
   "metadata": {},
   "outputs": [
    {
     "data": {
      "text/plain": [
       "10"
      ]
     },
     "execution_count": 34,
     "metadata": {},
     "output_type": "execute_result"
    }
   ],
   "source": [
    "number_of_years(1500000, 2.5, 10000, 2000000)"
   ]
  },
  {
   "cell_type": "markdown",
   "metadata": {},
   "source": [
    "### Excercise 24\n",
    "#### Some languages like Chinese, Japanese & Thai do not have spaces between words. However, most natural languages processing tasks like part-of-speech tagging require texts that have segmented words.\n",
    "\n",
    "\"MaxMatch\" is a simple and reasonably effective algorithm to segment a sentence into its component words.\n",
    "\n",
    "MaxMatch\n",
    "MaxMatch starts at the first character of a sentence and tries to find the longest valid word starting from that character. If no word is found, the first character is deemed the longest \"word\", regardless of its validity. In order to find the rest of the words, MaxMatch is then recursively invoked on all of the remaining characters until no characters remain. A list of all of the words that were found is returned.\n",
    "\n",
    "So for the string \"happynight\", \"happy\" is found because \"happynight\" is not a valid word, nor is \"happyni\", nor \"happyn\". Then, MaxMatch is called on \"night\", and \"night\" is found. The output is the list [\"happy\", \"night\"] in that order.\n",
    "\n",
    "The Challenge\n",
    "Write max_match, which takes an alphanumeric, spaceless, lowercased String as input and returns a List of Strings of all the words/ alphabets found, in the order they were found. All valid words including alphabets can be obtained with below set of code:\n",
    "\n",
    "import nltk\n",
    "nltk.download('words')\n",
    "english_vocab = set(w.lower() for w in nltk.corpus.words.words())\n",
    "\n",
    "english_vocab will contain all the valid words & alphabets. \n",
    "\n",
    "Example\n",
    "\n",
    "max_match('happynightzig')\n",
    "\n",
    "Output:\n",
    "\n",
    "['happy', 'night', 'zig']\n",
    "\n",
    " \n",
    "\n",
    "max_match('happynightzi')\n",
    "\n",
    "Output:\n",
    "\n",
    "['happy', 'night', 'z', 'i']\n",
    "\n",
    " "
   ]
  },
  {
   "cell_type": "markdown",
   "metadata": {},
   "source": [
    "### Excercise 25\n",
    "####  An array is circularly sorted if the elements are sorted in ascending order, but displaced, or rotated, by any number of steps.\n",
    "\n",
    "Complete the function/method that determines if the given array of integers is circularly sorted.\n",
    "\n",
    "Examples\n",
    "These arrays are circularly sorted (true):\n",
    "\n",
    "[2, 3, 4, 5, 0, 1]          -->       [0, 1] + [2, 3, 4, 5]\n",
    "[4, 5, 6, 9, 1]              -->       [1] + [4, 5, 6, 9]\n",
    "[10, 11, 6, 7, 9]          -->       [6, 7, 9] + [10, 11]\n",
    "[1, 2, 3, 4, 5]              -->       [1, 2, 3, 4, 5]\n",
    "[5, 7, 43, 987, -9, 0]  -->       [-9, 0] + [5, 7, 43, 987]\n",
    "\n",
    "\n",
    "While these are not (false):\n",
    "\n",
    "[4, 1, 2, 5]\n",
    "[8, 7, 6, 5, 4, 3]\n",
    "[6, 7, 4, 8]\n",
    "[7, 6, 5, 4, 3, 2, 1]"
   ]
  },
  {
   "cell_type": "code",
   "execution_count": 35,
   "metadata": {},
   "outputs": [],
   "source": [
    "def circularly_sorted(arr):\n",
    "    flag= 0\n",
    "    for i in range(0, len(arr)):\n",
    "        prev = arr[i-1]\n",
    "        if prev > arr[i]:\n",
    "            flag +=1\n",
    "    if flag > 1:\n",
    "        return False\n",
    "    else:\n",
    "        return True"
   ]
  },
  {
   "cell_type": "code",
   "execution_count": 36,
   "metadata": {},
   "outputs": [
    {
     "data": {
      "text/plain": [
       "True"
      ]
     },
     "execution_count": 36,
     "metadata": {},
     "output_type": "execute_result"
    }
   ],
   "source": [
    "circularly_sorted([2, 3, 4, 5, 0, 1] )"
   ]
  },
  {
   "cell_type": "code",
   "execution_count": 37,
   "metadata": {},
   "outputs": [
    {
     "data": {
      "text/plain": [
       "False"
      ]
     },
     "execution_count": 37,
     "metadata": {},
     "output_type": "execute_result"
    }
   ],
   "source": [
    "circularly_sorted([8, 3, 4, 5, 0, 1] )"
   ]
  },
  {
   "cell_type": "markdown",
   "metadata": {},
   "source": [
    "### Excercise 26\n",
    "#### The new movie \"SpaceXtreme\" has just been released! There are a lot of people at the cinema box office standing in a huge line. Each of them has a single 100, 50 or 25 dollar bill. An \"SpaceXtreme\" ticket costs 25 dollars.\n",
    "\n",
    " #### Steve is currently working as a clerk. He wants to sell a ticket to every single person in this line.\n",
    "\n",
    "#### Can Steve sell a ticket to every person and give change if he initially has no money and sells the tickets strictly in the order people queue?\n",
    "\n",
    "#### Return YES, if Steve can sell a ticket to every person and give change with the bills he has at hand at that moment. Otherwise return NO."
   ]
  },
  {
   "cell_type": "code",
   "execution_count": 39,
   "metadata": {},
   "outputs": [
    {
     "ename": "SyntaxError",
     "evalue": "invalid syntax (<ipython-input-39-c6069b7b8502>, line 1)",
     "output_type": "error",
     "traceback": [
      "\u001b[0;36m  File \u001b[0;32m\"<ipython-input-39-c6069b7b8502>\"\u001b[0;36m, line \u001b[0;32m1\u001b[0m\n\u001b[0;31m    function tickets(peopleInLine) {\u001b[0m\n\u001b[0m                   ^\u001b[0m\n\u001b[0;31mSyntaxError\u001b[0m\u001b[0;31m:\u001b[0m invalid syntax\n"
     ]
    }
   ],
   "source": [
    "\n",
    "function tickets(peopleInLine) {\n",
    "  var total25bill = 0;\n",
    "  var total50bill = 0;\n",
    "  var total100bill = 0;\n",
    "  for (var i = 0; i < peopleInLine.length; i++) {\n",
    "    if (peopleInLine[i] === 25) {\n",
    "        total25bill += 1;\n",
    "    } else if (peopleInLine[i] === 50) {\n",
    "        if (total25bill >= 1) {\n",
    "            total25bill =-1; \n",
    "            total50bill += 1;\n",
    "        } else {\n",
    "            return \"NO\";\n",
    "        }\n",
    "    } else if (peopleInLine[i] === 100) {\n",
    "        if ((total50bill >= 1) && (total25bill >= 1)){\n",
    "            total25bill =-1; \n",
    "            total50bill =-1; \n",
    "            total100bill += 1;\n",
    "        } else if (total25bill >= 3){\n",
    "            total25bill =-3; \n",
    "            total100bill += 1;\n",
    "        } else {\n",
    "            return \"NO\";\n",
    "        }\n",
    "    }\n",
    "  }\n",
    "  return \"YES\";\n",
    "}"
   ]
  },
  {
   "cell_type": "code",
   "execution_count": 42,
   "metadata": {},
   "outputs": [
    {
     "ename": "SyntaxError",
     "evalue": "invalid syntax (<ipython-input-42-516a0d298e26>, line 1)",
     "output_type": "error",
     "traceback": [
      "\u001b[0;36m  File \u001b[0;32m\"<ipython-input-42-516a0d298e26>\"\u001b[0;36m, line \u001b[0;32m1\u001b[0m\n\u001b[0;31m    function isEmpty(xs) { return xs.length === 0; }:\u001b[0m\n\u001b[0m                   ^\u001b[0m\n\u001b[0;31mSyntaxError\u001b[0m\u001b[0;31m:\u001b[0m invalid syntax\n"
     ]
    }
   ],
   "source": [
    "function isEmpty(xs) { return xs.length === 0; }:\n",
    "function first(xs) { return xs[0]; }:\n",
    "function rest(xs) { return xs.slice(1); }:\n",
    "\n",
    "function tickets(xs) {\n",
    "  function loop(a,b,c,xs) {\n",
    "    \n",
    "    if (a < 0 || b < 0 || c < 0)\n",
    "      return \"NO\";\n",
    "\n",
    "    \n",
    "    else if (isEmpty(xs))\n",
    "      return \"YES\";\n",
    "\n",
    "    \n",
    "    else\n",
    "      switch (first(xs)) {\n",
    "        case 25:                                \n",
    "          return loop(a+1, b,   c, rest(xs)); \n",
    "        case 50:\n",
    "          return loop(a-1, b+1, c, rest(xs)); \n",
    "        case 100:\n",
    "          return b > 0                          \n",
    "            ? loop(a-1, b-1, c+1, rest(xs))     \n",
    "            : loop(a-3, b,   c+1, rest(xs))     \n",
    "          ;\n",
    "      }\n",
    "  }\n",
    "  return loop(0,0,0,xs);\n",
    "}\n",
    "\n",
    "\n"
   ]
  },
  {
   "cell_type": "markdown",
   "metadata": {},
   "source": [
    "### Write a function, persistence, that takes in a positive parameter num and returns its multiplicative persistence, which is the number of times you must multiply the digits in num until you reach a single digit.\n",
    "\n",
    "For example:\n",
    "\n",
    " persistence(38) => 2  # Because 3*8 = 24, 2*4 = 8 and 8 has only one digit.\n",
    "\n",
    " persistence(999) => 4 # Because 9*9*9 = 729, 7*2*9 = 126, 1*2*6 = 12, and finally 1*2 = 2.\n",
    "\n",
    " persistence(4) => 0   # Because 4 is already a one-digit number.\n",
    "\n",
    " "
   ]
  },
  {
   "cell_type": "code",
   "execution_count": 43,
   "metadata": {},
   "outputs": [],
   "source": [
    "import operator\n",
    "import functools\n",
    "from functools import reduce\n",
    "\n",
    "def persistence(n):\n",
    "    i = 0\n",
    "    while n>=10:\n",
    "        n=reduce(operator.mul,[int(x) for x in str(n)],1)\n",
    "        i+=1\n",
    "    return i"
   ]
  },
  {
   "cell_type": "code",
   "execution_count": 44,
   "metadata": {},
   "outputs": [
    {
     "data": {
      "text/plain": [
       "3"
      ]
     },
     "execution_count": 44,
     "metadata": {},
     "output_type": "execute_result"
    }
   ],
   "source": [
    "persistence(39)"
   ]
  },
  {
   "cell_type": "markdown",
   "metadata": {},
   "source": [
    "### Maria needs to get on a train that leaves from the station D kilometres away in T minutes. She can get a taxi that drives at S1 km/h for the price of R €/km or she can walk at S2 km/h for free.\n",
    "### A correct solution will be a function that returns the minimum price she needs to pay the taxi driver or the string \"Won't make it!\".\n",
    "### All the inputs will be positive integers, the output has to be a string containing a number with two decimal places - or \"Won't make it!\" if that is the case.\n",
    "\n",
    "\n",
    "It won't take her any time to get on the taxi or the train.\n",
    "\n",
    "In non-trivial cases, the need is to combine walking and riding the taxi so that she makes it, but pays as little as possible.\n",
    "\n",
    "The input parameters will be in that order:\n",
    "\n",
    "Distance, Time, Taxi speed, Price rate of taxi per km, Walking speed"
   ]
  },
  {
   "cell_type": "code",
   "execution_count": 45,
   "metadata": {},
   "outputs": [],
   "source": [
    "def calculate_optimal_fare(d, t, taxi, r, walk):\n",
    "    h = t/60.0\n",
    "    if walk * h >= d: return \"0.00\"\n",
    "    if taxi * h <  d: return \"Won't make it!\"\n",
    "    return \"%.2f\" % (r * taxi * (d - walk * h) / (taxi - walk))"
   ]
  },
  {
   "cell_type": "code",
   "execution_count": 46,
   "metadata": {},
   "outputs": [
    {
     "data": {
      "text/plain": [
       "'62.50'"
      ]
     },
     "execution_count": 46,
     "metadata": {},
     "output_type": "execute_result"
    }
   ],
   "source": [
    "calculate_optimal_fare(10, 50, 30, 10, 6)\n",
    "\n",
    "\n",
    "\n",
    " "
   ]
  },
  {
   "cell_type": "code",
   "execution_count": 47,
   "metadata": {},
   "outputs": [
    {
     "data": {
      "text/plain": [
       "\"Won't make it!\""
      ]
     },
     "execution_count": 47,
     "metadata": {},
     "output_type": "execute_result"
    }
   ],
   "source": [
    "calculate_optimal_fare(100, 50, 30, 10, 6)"
   ]
  },
  {
   "cell_type": "code",
   "execution_count": null,
   "metadata": {},
   "outputs": [],
   "source": []
  }
 ],
 "metadata": {
  "kernelspec": {
   "display_name": "Python 3",
   "language": "python",
   "name": "python3"
  },
  "language_info": {
   "codemirror_mode": {
    "name": "ipython",
    "version": 3
   },
   "file_extension": ".py",
   "mimetype": "text/x-python",
   "name": "python",
   "nbconvert_exporter": "python",
   "pygments_lexer": "ipython3",
   "version": "3.7.1"
  }
 },
 "nbformat": 4,
 "nbformat_minor": 2
}
