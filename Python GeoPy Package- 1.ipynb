{
 "cells": [
  {
   "cell_type": "markdown",
   "metadata": {},
   "source": [
    "### Write a Python program to search the Street address, name from a given location information using Nominatim API and Geopy package"
   ]
  },
  {
   "cell_type": "code",
   "execution_count": 1,
   "metadata": {},
   "outputs": [
    {
     "name": "stdout",
     "output_type": "stream",
     "text": [
      "Location address: 27488 Stanford Avenue, North Dakota\n",
      "Street address, street name: \n",
      "Stanford Avenue, Bowdon, Wells County, North Dakota, 58418, United States\n",
      "\n",
      "Location address: 380 New York St, Redlands, CA 92373\n",
      "Street address, street name: \n",
      "Esri Building C, 380, New York Street, Esri Inc., Redlands, San Bernardino County, California, 92373, United States\n",
      "\n",
      "Location address: 1600 Pennsylvania Avenue NW\n",
      "Street address, street name: \n",
      "1600, Pennsylvania Avenue North, Golden Valley, Hennepin County, Minnesota, 55427, United States\n"
     ]
    }
   ],
   "source": [
    "from geopy.geocoders import Nominatim\n",
    "geolocator = Nominatim(user_agent=\"geoapiExercises\")\n",
    "ladd1 = \"27488 Stanford Avenue, North Dakota\"\n",
    "print(\"Location address:\",ladd1)\n",
    "location = geolocator.geocode(ladd1)\n",
    "print(\"Street address, street name: \")\n",
    "print(location.address)\n",
    "ladd2 = \"380 New York St, Redlands, CA 92373\"\n",
    "print(\"\\nLocation address:\",ladd2)\n",
    "location = geolocator.geocode(ladd2)\n",
    "print(\"Street address, street name: \")\n",
    "print(location.address)\n",
    "ladd3 = \"1600 Pennsylvania Avenue NW\"\n",
    "print(\"\\nLocation address:\",ladd3)\n",
    "location = geolocator.geocode(ladd3)\n",
    "print(\"Street address, street name: \")\n",
    "print(location.address)"
   ]
  },
  {
   "cell_type": "markdown",
   "metadata": {},
   "source": [
    "### Write a Python program to search the country name from given state name using Nominatim API and GeoPy package."
   ]
  },
  {
   "cell_type": "code",
   "execution_count": 2,
   "metadata": {},
   "outputs": [
    {
     "name": "stdout",
     "output_type": "stream",
     "text": [
      "State Name: Uttar Pradesh\n",
      "State Name/Country Name: \n",
      "Uttar Pradesh, India\n",
      "\n",
      "State Name:  Illinois\n",
      "State Name/Country Name: \n",
      "Illinois, United States of America\n",
      "\n",
      "State Name: Normandy\n",
      "State Name/Country Name: \n",
      "Normandie, France métropolitaine, France\n",
      "\n",
      "State Name: Jerusalem District\n",
      "State Name/Country Name: \n",
      "מחוז ירושלים, ישראל\n"
     ]
    }
   ],
   "source": [
    "from geopy.geocoders import Nominatim\n",
    "geolocator = Nominatim(user_agent=\"geoapiExercises\")\n",
    "state1 = \"Uttar Pradesh\"\n",
    "print(\"State Name:\",state1)\n",
    "location = geolocator.geocode(state1)\n",
    "print(\"State Name/Country Name: \")\n",
    "print(location.address)\n",
    "state2 = \" Illinois\"\n",
    "print(\"\\nState Name:\",state2)\n",
    "location = geolocator.geocode(state2)\n",
    "print(\"State Name/Country Name: \")\n",
    "print(location.address)\n",
    "state3 = \"Normandy\"\n",
    "print(\"\\nState Name:\",state3)\n",
    "location = geolocator.geocode(state3)\n",
    "print(\"State Name/Country Name: \")\n",
    "print(location.address) \n",
    "state4 = \"Jerusalem District\"\n",
    "print(\"\\nState Name:\",state4)\n",
    "location = geolocator.geocode(state4)\n",
    "print(\"State Name/Country Name: \")\n",
    "print(location.address)"
   ]
  },
  {
   "cell_type": "markdown",
   "metadata": {},
   "source": [
    "### Write a Python program to find the details of a given zip code using Nominatim API and GeoPy package."
   ]
  },
  {
   "cell_type": "code",
   "execution_count": 3,
   "metadata": {},
   "outputs": [
    {
     "name": "stdout",
     "output_type": "stream",
     "text": [
      "\n",
      "Zipcode: 99501\n",
      "Details of the said pincode:\n",
      "Anchorage, Alaska, 99501, United States\n",
      "\n",
      "Zipcode: CA9 3HX\n",
      "Details of the said pincode:\n",
      "Alston Moor, Eden, Cumbria, North West England, England, CA9 3HX, United Kingdom\n",
      "\n",
      "Zipcode: 61000\n",
      "Details of the said pincode:\n",
      "Alençon, Orne, Normandie, France métropolitaine, 61000, France\n",
      "\n",
      "Zipcode: 713101\n",
      "Details of the said pincode:\n",
      "Purba Bardhaman, West Bengal, 713101, India\n"
     ]
    }
   ],
   "source": [
    "from geopy.geocoders import Nominatim\n",
    "geolocator = Nominatim(user_agent=\"geoapiExercises\")\n",
    "zipcode1 = \"99501\"\n",
    "print(\"\\nZipcode:\",zipcode1)\n",
    "location = geolocator.geocode(zipcode1)\n",
    "print(\"Details of the said pincode:\")\n",
    "print(location.address) \n",
    "zipcode2 = \"CA9 3HX\"\n",
    "print(\"\\nZipcode:\",zipcode2)\n",
    "location = geolocator.geocode(zipcode2)\n",
    "print(\"Details of the said pincode:\")\n",
    "print(location.address) \n",
    "zipcode3 = \"61000\"\n",
    "print(\"\\nZipcode:\",zipcode3)\n",
    "location = geolocator.geocode(zipcode3)\n",
    "print(\"Details of the said pincode:\")\n",
    "print(location.address) \n",
    "zipcode4 = \"713101\"\n",
    "print(\"\\nZipcode:\",zipcode4)\n",
    "location = geolocator.geocode(zipcode4)\n",
    "print(\"Details of the said pincode:\")\n",
    "print(location.address)"
   ]
  },
  {
   "cell_type": "markdown",
   "metadata": {},
   "source": [
    "### Write a Python program to find the latitude and longitude of a given location using Nominatim API and Geopy package."
   ]
  },
  {
   "cell_type": "code",
   "execution_count": 4,
   "metadata": {},
   "outputs": [
    {
     "name": "stdout",
     "output_type": "stream",
     "text": [
      "Location address: 27488 Stanford Avenue, North Dakota\n",
      "Latitude and Longitude of the said address:\n",
      "(47.470706, -99.704723)\n",
      "\n",
      "Location address: 380 New York St, Redlands, CA 92373\n",
      "Latitude and Longitude of the said address:\n",
      "(34.05728435, -117.194132331602)\n",
      "\n",
      "Location address: 1600 Pennsylvania Avenue NW\n",
      "Latitude and Longitude of the said address:\n",
      "(44.9970525769815, -93.3752054745253)\n"
     ]
    }
   ],
   "source": [
    "from geopy.geocoders import Nominatim\n",
    "geolocator = Nominatim(user_agent=\"geoapiExercises\")\n",
    "ladd1 = \"27488 Stanford Avenue, North Dakota\"\n",
    "print(\"Location address:\",ladd1)\n",
    "location = geolocator.geocode(ladd1)\n",
    "print(\"Latitude and Longitude of the said address:\")\n",
    "print((location.latitude, location.longitude))\n",
    "ladd2 = \"380 New York St, Redlands, CA 92373\"\n",
    "print(\"\\nLocation address:\",ladd2)\n",
    "location = geolocator.geocode(ladd2)\n",
    "print(\"Latitude and Longitude of the said address:\")\n",
    "print((location.latitude, location.longitude))\n",
    "ladd3 = \"1600 Pennsylvania Avenue NW\"\n",
    "print(\"\\nLocation address:\",ladd3)\n",
    "location = geolocator.geocode(ladd3)\n",
    "print(\"Latitude and Longitude of the said address:\")\n",
    "print((location.latitude, location.longitude))\n"
   ]
  },
  {
   "cell_type": "markdown",
   "metadata": {},
   "source": [
    "### Write a Python program to find the location address of a specified latitude and longitude using Nominatim API and Geopy package."
   ]
  },
  {
   "cell_type": "code",
   "execution_count": 5,
   "metadata": {},
   "outputs": [
    {
     "name": "stdout",
     "output_type": "stream",
     "text": [
      "Latitude and Longitude: 47.470706, -99.704723\n",
      "Location address of the said Latitude and Longitude:\n",
      "399, Stanford Avenue, Bowdon, Wells County, North Dakota, 58418, United States\n",
      "\n",
      "Latitude and Longitude: 34.05728435, -117.194132331602\n",
      "Location address of the said Latitude and Longitude:\n",
      "Esri Building C, 380, New York Street, Esri Inc., Redlands, San Bernardino County, California, 92373, United States\n",
      "\n",
      "Latitude and Longitude: 38.8976998, -77.0365534886228\n",
      "Location address of the said Latitude and Longitude:\n",
      "White House, 1600, Pennsylvania Avenue Northwest, Golden Triangle, Penn Quarter, Washington, District of Columbia, 20500, United States of America\n",
      "\n",
      "Latitude and Longitude: 55.7558° N, 37.6173° E\n",
      "Location address of the said Latitude and Longitude:\n",
      "Государственный исторический музей, 1, Красная площадь, Китай-город, Тверской район, Центральный административный округ, Москва, Центральный федеральный округ, 109012, Россия\n",
      "\n",
      "Latitude and Longitude: 35.6762° N, 139.6503° E\n",
      "Location address of the said Latitude and Longitude:\n",
      "高円寺, 杉並区, 東京都, 関東地方, 168-0063, 日本\n",
      "\n",
      "Latitude and Longitude: 41.9185° N, 45.4777° E\n",
      "Location address of the said Latitude and Longitude:\n",
      "გვირაბის ქუჩა (Gvirabi St), თელავი, კახეთი, 2200, საქართველო\n"
     ]
    }
   ],
   "source": [
    "from geopy.geocoders import Nominatim\n",
    "geolocator = Nominatim(user_agent=\"geoapiExercises\")\n",
    "lald = \"47.470706, -99.704723\"\n",
    "print(\"Latitude and Longitude:\",lald)\n",
    "location = geolocator.geocode(lald)\n",
    "print(\"Location address of the said Latitude and Longitude:\")\n",
    "print(location)\n",
    "lald = \"34.05728435, -117.194132331602\"\n",
    "print(\"\\nLatitude and Longitude:\",lald)\n",
    "location = geolocator.geocode(lald)\n",
    "print(\"Location address of the said Latitude and Longitude:\")\n",
    "print(location)\n",
    "lald = \"38.8976998, -77.0365534886228\"\n",
    "print(\"\\nLatitude and Longitude:\",lald)\n",
    "location = geolocator.geocode(lald)\n",
    "print(\"Location address of the said Latitude and Longitude:\")\n",
    "print(location)\n",
    "lald = \"55.7558° N, 37.6173° E\"\n",
    "print(\"\\nLatitude and Longitude:\",lald)\n",
    "location = geolocator.geocode(lald)\n",
    "print(\"Location address of the said Latitude and Longitude:\")\n",
    "print(location)\n",
    "lald = \"35.6762° N, 139.6503° E\"\n",
    "print(\"\\nLatitude and Longitude:\",lald)\n",
    "location = geolocator.geocode(lald)\n",
    "print(\"Location address of the said Latitude and Longitude:\")\n",
    "print(location)\n",
    "lald = \"41.9185° N, 45.4777° E\"\n",
    "print(\"\\nLatitude and Longitude:\",lald)\n",
    "location = geolocator.geocode(lald)\n",
    "print(\"Location address of the said Latitude and Longitude:\")\n",
    "print(location)"
   ]
  },
  {
   "cell_type": "markdown",
   "metadata": {},
   "source": [
    "### Write a Python function to get the city, state and country name of a specified latitude and longitude using Nominatim API and Geopy package."
   ]
  },
  {
   "cell_type": "code",
   "execution_count": 6,
   "metadata": {},
   "outputs": [
    {
     "name": "stdout",
     "output_type": "stream",
     "text": [
      "('Bowdon', 'North Dakota', 'United States')\n"
     ]
    }
   ],
   "source": [
    "from geopy.geocoders import Nominatim\n",
    "geolocator = Nominatim(user_agent=\"geoapiExercises\")\n",
    "def city_state_country(coord):\n",
    "    location = geolocator.reverse(coord, exactly_one=True)\n",
    "    address = location.raw['address']\n",
    "    city = address.get('city', '')\n",
    "    state = address.get('state', '')\n",
    "    country = address.get('country', '')\n",
    "    return city, state, country\n",
    "print(city_state_country(\"47.470706, -99.704723\"))"
   ]
  },
  {
   "cell_type": "markdown",
   "metadata": {},
   "source": [
    "### Write a Python program to calculate the distance between London and New York city."
   ]
  },
  {
   "cell_type": "code",
   "execution_count": 7,
   "metadata": {},
   "outputs": [
    {
     "name": "stdout",
     "output_type": "stream",
     "text": [
      "Distance between London and New York city (in km):\n",
      "5585.233578931302  kms\n"
     ]
    }
   ],
   "source": [
    "from geopy import distance\n",
    "london = (\"51.5074° N, 0.1278° W\")\n",
    "newyork = (\"40.7128° N, 74.0060° W\")\n",
    "print(\"Distance between London and New York city (in km):\")\n",
    "print(distance.distance(london, newyork).km,\" kms\")"
   ]
  },
  {
   "cell_type": "code",
   "execution_count": null,
   "metadata": {},
   "outputs": [],
   "source": []
  }
 ],
 "metadata": {
  "kernelspec": {
   "display_name": "Python 3",
   "language": "python",
   "name": "python3"
  },
  "language_info": {
   "codemirror_mode": {
    "name": "ipython",
    "version": 3
   },
   "file_extension": ".py",
   "mimetype": "text/x-python",
   "name": "python",
   "nbconvert_exporter": "python",
   "pygments_lexer": "ipython3",
   "version": "3.7.1"
  }
 },
 "nbformat": 4,
 "nbformat_minor": 2
}
