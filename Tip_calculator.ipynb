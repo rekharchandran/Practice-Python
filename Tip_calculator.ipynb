{
 "cells": [
  {
   "cell_type": "code",
   "execution_count": 10,
   "metadata": {},
   "outputs": [
    {
     "name": "stdout",
     "output_type": "stream",
     "text": [
      "What is your current age34\n",
      "you have20440days,2912 weeks,672months remaining\n"
     ]
    }
   ],
   "source": [
    "### Life in weeksuud\n",
    "\n",
    "age = input(\"What is your current age\")\n",
    "age_as_int = int(age)\n",
    "years_remaining = 90 - age_as_int\n",
    "days_remaining = years_remaining *365\n",
    "weeks_remaining = years_remaining * 52\n",
    "months_remaining = years_remaining * 12\n",
    "print(f\"you have{days_remaining}days,{weeks_remaining} weeks,{months_remaining}months remaining\")"
   ]
  },
  {
   "cell_type": "code",
   "execution_count": 29,
   "metadata": {},
   "outputs": [
    {
     "name": "stdout",
     "output_type": "stream",
     "text": [
      "What is the total bill? $500\n",
      "what percentage of tip would you like to give? 10,12 or 15?12\n",
      "How many people to split the bill6\n",
      "Each person should pay $93.33\n"
     ]
    }
   ],
   "source": [
    "#### Tip Calculator\n",
    "bill = float(input(\"What is the total bill? $\"))\n",
    "tip = int(input(\"what percentage of tip would you like to give? 10,12 or 15?\"))                  \n",
    "people = int ( input(\"How many people to split the bill\"))\n",
    "bill_with_tip = tip /100 *bill +bill\n",
    "bill_per_person = bill_with_tip / people\n",
    "final_amount= round(bill_per_person,2)\n",
    "print(f\"Each person should pay ${final_amount}\")"
   ]
  }
 ],
 "metadata": {
  "kernelspec": {
   "display_name": "Python 3",
   "language": "python",
   "name": "python3"
  },
  "language_info": {
   "codemirror_mode": {
    "name": "ipython",
    "version": 3
   },
   "file_extension": ".py",
   "mimetype": "text/x-python",
   "name": "python",
   "nbconvert_exporter": "python",
   "pygments_lexer": "ipython3",
   "version": "3.8.5"
  }
 },
 "nbformat": 4,
 "nbformat_minor": 4
}
