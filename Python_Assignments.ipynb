{
  "nbformat": 4,
  "nbformat_minor": 0,
  "metadata": {
    "colab": {
      "provenance": [],
      "collapsed_sections": [
        "o3Y4FQXkKvU-"
      ]
    },
    "kernelspec": {
      "name": "python3",
      "display_name": "Python 3"
    },
    "language_info": {
      "name": "python"
    }
  },
  "cells": [
    {
      "cell_type": "code",
      "execution_count": null,
      "metadata": {
        "colab": {
          "base_uri": "https://localhost:8080/"
        },
        "id": "qMi1e4LCAq1N",
        "outputId": "8e893a91-0259-4762-b3d4-27d20645be68"
      },
      "outputs": [
        {
          "output_type": "stream",
          "name": "stdout",
          "text": [
            "The length of the list is: 5\n"
          ]
        }
      ],
      "source": [
        "#Write a Python program to find the length of a list.\n",
        "my_list = [1, 2, 3, 4, 5]\n",
        "length = len(my_list)\n",
        "print(f\"The length of the list is: {length}\")"
      ]
    },
    {
      "cell_type": "code",
      "source": [
        "#Explain the difference between lists and tuples in Python.\n",
        "#Lists: Lists are mutable, meaning their elements can be changed after the list is created.\n",
        "#can add, remove, or modify elements in a list.\n",
        "#Lists are defined using square brackets []\n",
        "#Use lists when you need a collection of items that may need to change during the program’s execution (e.g., when you need to add or remove items).\n",
        "#Lists have more overhead because they are mutable and need to manage dynamic resizing and other operations.\n",
        "#ists have a variety of methods available to modify the list, such as append(), extend(), insert(), remove(), pop(), and clear()\n",
        "\n",
        "#Tuples: Tuples are immutable, meaning once a tuple is created, its elements cannot be changed.\n",
        "#Cannot add, remove, or modify elements in a tuple.\n",
        "#Tuples are defined using parentheses ()\n",
        "#Use tuples when you need a collection of items that should not change. Tuples are often used for fixed collections of related items (e.g., coordinates, RGB values).\n",
        "#Tuples are generally more memory-efficient and faster to access because they are immutable and have less overhead\n",
        "#Tuples have fewer methods. They primarily support operations that do not modify the tuple, such as count() and index().\n"
      ],
      "metadata": {
        "id": "8ydaFxejDNex"
      },
      "execution_count": null,
      "outputs": []
    },
    {
      "cell_type": "markdown",
      "source": [
        "##Explain the difference between lists and tuples in Python.\n",
        "###Lists:\n",
        "Lists are mutable, meaning their elements can be changed after the list is created.\n",
        "can add, remove, or modify elements in a list.\n",
        "Lists are defined using square brackets []\n",
        "Use lists when we need a collection of items that may need to change during the program’s execution (e.g., when we need to add or remove items).\n",
        "Lists have more overhead because they are mutable and need to manage dynamic resizing and other operations.\n",
        "Lists have a variety of methods available to modify the list, such as append(), extend(), insert(), remove(), pop(), and clear()\n",
        "\n",
        "###Tuples:\n",
        "Tuples are immutable, meaning once a tuple is created, its elements cannot be changed.\n",
        "Cannot add, remove, or modify elements in a tuple.\n",
        "Tuples are defined using parentheses ()\n",
        "Use tuples when you need a collection of items that should not change. Tuples are often used for fixed collections of related items (e.g., coordinates, RGB values).\n",
        "Tuples are generally more memory-efficient and faster to access because they are immutable and have less overhead\n",
        "Tuples have fewer methods. They primarily support operations that do not modify the tuple, such as count() and index().\n"
      ],
      "metadata": {
        "id": "LMivwQFXJCss"
      }
    },
    {
      "cell_type": "code",
      "source": [
        "#How do you access and modify elements in a list?\n",
        "#Accessing Elements\n",
        "#We can access elements in a list using indexing. The index starts from 0 for the first element\n",
        "# Example list\n",
        "my_list = [10, 20, 30, 40, 50]\n",
        "\n",
        "# Accessing elements\n",
        "first_element = my_list[0]\n",
        "second_element = my_list[1]\n",
        "last_element = my_list[-1]\n",
        "print(my_list[0])\n",
        "print(my_list[1])\n",
        "print(my_list[-1])"
      ],
      "metadata": {
        "colab": {
          "base_uri": "https://localhost:8080/"
        },
        "id": "Yyw32hvnEmDs",
        "outputId": "0256e26d-e3f3-4711-a775-586525782047"
      },
      "execution_count": null,
      "outputs": [
        {
          "output_type": "stream",
          "name": "stdout",
          "text": [
            "10\n",
            "20\n",
            "50\n"
          ]
        }
      ]
    },
    {
      "cell_type": "code",
      "source": [
        "#Modifying Elements\n",
        "#We can modify elements in a list by assigning a new value to a specific index.\n",
        "\n",
        "# Example list\n",
        "my_list = [10, 20, 30, 40, 50]\n",
        "\n",
        "# Modifying elements\n",
        "my_list[0] = 100\n",
        "my_list[2] = 300\n",
        "my_list[-1] = 500\n",
        "\n",
        "print(my_list)\n"
      ],
      "metadata": {
        "colab": {
          "base_uri": "https://localhost:8080/"
        },
        "id": "xIylQc3qFtwd",
        "outputId": "63f83065-a617-4b92-cc1e-47d9a59942d6"
      },
      "execution_count": null,
      "outputs": [
        {
          "output_type": "stream",
          "name": "stdout",
          "text": [
            "[100, 20, 300, 40, 500]\n"
          ]
        }
      ]
    },
    {
      "cell_type": "code",
      "source": [
        "#Write a Python program to remove duplicates from a list.\n",
        "color = ['orange', 'red', 'green', 'red', 'yellow', 'green']\n",
        "color = list(dict.fromkeys(color))\n",
        "color"
      ],
      "metadata": {
        "colab": {
          "base_uri": "https://localhost:8080/"
        },
        "id": "GFw0zvQWGbUF",
        "outputId": "b8eb0159-8d17-4961-f8d8-7ca2396127b8"
      },
      "execution_count": null,
      "outputs": [
        {
          "output_type": "execute_result",
          "data": {
            "text/plain": [
              "['orange', 'red', 'green', 'yellow']"
            ]
          },
          "metadata": {},
          "execution_count": 13
        }
      ]
    },
    {
      "cell_type": "code",
      "source": [
        "#Explain the concept of a dictionary in Python and how it differs from lists and tuples.\n",
        "\n",
        "A dictionary is an unordered, mutable collection of key-value pairs.\n",
        "Keys must be unique and immutable (e.g., strings, numbers, or tuples).\n",
        "Values can be of any type and can be duplicated.\n"
      ],
      "metadata": {
        "id": "6e09m_AfHeL9"
      },
      "execution_count": null,
      "outputs": []
    },
    {
      "cell_type": "markdown",
      "source": [
        "##Explain the concept of a dictionary in Python and how it differs from lists and tuples.\n",
        "\n",
        "A dictionary is an unordered, mutable collection of key-value pairs.\n",
        "Keys must be unique and immutable (e.g., strings, numbers, or tuples).\n",
        "Values can be of any type and can be duplicated.\n",
        "\n",
        "Dictionaries are defined using curly braces {} with key-value pairs separated by colons :.\n",
        "\n",
        "Values are accessed using their corresponding keys.\n",
        "\n",
        "Can add, update, or delete key-value pairs\n",
        "\n",
        "Common Methods:\n",
        "\n",
        "keys(): Returns a view object of all keys.\n",
        "values(): Returns a view object of all values.\n",
        "items(): Returns a view object of all key-value pairs.\n",
        "get(key): Returns the value for the specified key, or None if the key does not exist\n",
        "\n",
        "### Differences Between Dictionaries, Lists, and Tuples:\n",
        "\n",
        "List: Ordered, mutable collection of items. Defined with square brackets []\n",
        "\n",
        "Tuple: Ordered, immutable collection of items. Defined with parentheses ()\n",
        "\n",
        "Dictionary: Unordered, mutable collection of key-value pairs. Defined with curly braces {}.\n",
        "\n",
        "Lists and tuples are used for ordered collections of items, with lists being mutable and tuples being immutable.\n",
        "\n",
        "Dictionaries are used for collections of key-value pairs, providing a mapping from unique keys to values. They are mutable and unordered.\n"
      ],
      "metadata": {
        "id": "akC6ExavIlY4"
      }
    },
    {
      "cell_type": "markdown",
      "source": [
        "##How do you create and access elements in a dictionary?\n",
        "\n",
        "To create a dictionary, you use curly braces {} and specify key-value pairs separated by colons :. Each key-value pair is separated by a comma ,.\n",
        "\n",
        "Here's an example of creating a dictionary correctly:"
      ],
      "metadata": {
        "id": "9W2wa4R9LLLU"
      }
    },
    {
      "cell_type": "code",
      "source": [
        "# Correctly creating a dictionary with key-value pairs\n",
        "a = {\n",
        "    \"Tesla\": 2,\n",
        "    \"Maybach\": 4,\n",
        "    \"Lexus\": 5\n",
        "}\n",
        "\n",
        "print(a)"
      ],
      "metadata": {
        "colab": {
          "base_uri": "https://localhost:8080/"
        },
        "id": "Ve842hN0LRai",
        "outputId": "020d0ad4-33de-42fb-feb9-a3eca21da448"
      },
      "execution_count": null,
      "outputs": [
        {
          "output_type": "stream",
          "name": "stdout",
          "text": [
            "{'Tesla': 2, 'Maybach': 4, 'Lexus': 5}\n"
          ]
        }
      ]
    },
    {
      "cell_type": "markdown",
      "source": [
        "### Accessing Elements in a Dictionary\n",
        "We can access elements in a dictionary by using the keys. Here’s how"
      ],
      "metadata": {
        "id": "98pSPY1tLcSZ"
      }
    },
    {
      "cell_type": "code",
      "source": [
        "# Accessing elements using keys\n",
        "tesla_count = a[\"Tesla\"]\n",
        "maybach_count = a[\"Maybach\"]\n",
        "lexus_count = a[\"Lexus\"]\n",
        "\n",
        "print(\"Tesla count:\", tesla_count)\n",
        "print(\"Maybach count:\", maybach_count)\n",
        "print(\"Lexus count:\", lexus_count)\n"
      ],
      "metadata": {
        "colab": {
          "base_uri": "https://localhost:8080/"
        },
        "id": "7J3IOAZFLg_X",
        "outputId": "54ff5230-c74c-44ff-f240-c18f5947e57d"
      },
      "execution_count": null,
      "outputs": [
        {
          "output_type": "stream",
          "name": "stdout",
          "text": [
            "Tesla count: 2\n",
            "Maybach count: 4\n",
            "Lexus count: 5\n"
          ]
        }
      ]
    },
    {
      "cell_type": "code",
      "source": [
        "#Write a Python program to merge two dictionaries.\n",
        "def Merge(dict1, dict2):\n",
        "    return(dict2.update(dict1))\n",
        "\n",
        "\n",
        "# Driver code\n",
        "dict1 = {'a': 10, 'b': 8}\n",
        "dict2 = {'d': 6, 'c': 4}\n",
        "\n",
        "# This returns None\n",
        "print(Merge(dict1, dict2))\n",
        "\n",
        "# changes made in dict2\n",
        "print(dict2)"
      ],
      "metadata": {
        "colab": {
          "base_uri": "https://localhost:8080/"
        },
        "id": "oEtKRF-BLu_V",
        "outputId": "7231b977-7410-4c6e-8a58-cac325034320"
      },
      "execution_count": null,
      "outputs": [
        {
          "output_type": "stream",
          "name": "stdout",
          "text": [
            "None\n",
            "{'d': 6, 'c': 4, 'a': 10, 'b': 8}\n"
          ]
        }
      ]
    },
    {
      "cell_type": "code",
      "source": [
        "#What are the different string methods available in Python? Give examples."
      ],
      "metadata": {
        "id": "WIU20TpdMhsX"
      },
      "execution_count": null,
      "outputs": []
    },
    {
      "cell_type": "markdown",
      "source": [
        "##str.upper()\n",
        "Converts all characters in the string to uppercase."
      ],
      "metadata": {
        "id": "7Dip_IcuM_J0"
      }
    },
    {
      "cell_type": "code",
      "source": [
        "s = \"hello\"\n",
        "print(s.upper())\n"
      ],
      "metadata": {
        "colab": {
          "base_uri": "https://localhost:8080/"
        },
        "id": "rJWpTztpM7qN",
        "outputId": "ef560279-04c7-4b00-fc6a-e01d88457e82"
      },
      "execution_count": null,
      "outputs": [
        {
          "output_type": "stream",
          "name": "stdout",
          "text": [
            "HELLO\n"
          ]
        }
      ]
    },
    {
      "cell_type": "markdown",
      "source": [
        "##str.lower()\n",
        "Converts all characters in the string to lowercase."
      ],
      "metadata": {
        "id": "SWEGYTQYNM7c"
      }
    },
    {
      "cell_type": "code",
      "source": [
        "s = \"HELLO\"\n",
        "print(s.lower())\n"
      ],
      "metadata": {
        "colab": {
          "base_uri": "https://localhost:8080/"
        },
        "id": "xRibZWSJNH0p",
        "outputId": "7d6bfe5b-3fb3-43cd-c7b3-a4745de8f219"
      },
      "execution_count": null,
      "outputs": [
        {
          "output_type": "stream",
          "name": "stdout",
          "text": [
            "hello\n"
          ]
        }
      ]
    },
    {
      "cell_type": "markdown",
      "source": [
        "###str.capitalize()\n",
        "Capitalizes the first character of the string."
      ],
      "metadata": {
        "id": "4YZTrzvPNVPV"
      }
    },
    {
      "cell_type": "code",
      "source": [
        "s = \"hello world\"\n",
        "print(s.capitalize())\n"
      ],
      "metadata": {
        "colab": {
          "base_uri": "https://localhost:8080/"
        },
        "id": "mcvcTnDRNdjc",
        "outputId": "a25910e8-5dd1-4607-ab4a-417d0b4965fb"
      },
      "execution_count": null,
      "outputs": [
        {
          "output_type": "stream",
          "name": "stdout",
          "text": [
            "Hello world\n"
          ]
        }
      ]
    },
    {
      "cell_type": "markdown",
      "source": [
        "###str.title()\n",
        "Capitalizes the first character of each word in the string."
      ],
      "metadata": {
        "id": "1MuPoCvGNiPd"
      }
    },
    {
      "cell_type": "code",
      "source": [
        "s = \"hello world\"\n",
        "print(s.title())\n",
        "\n"
      ],
      "metadata": {
        "colab": {
          "base_uri": "https://localhost:8080/"
        },
        "id": "StiLNLwwNnJv",
        "outputId": "9d18af9a-e404-4bbc-9ae4-5e9433c23381"
      },
      "execution_count": null,
      "outputs": [
        {
          "output_type": "stream",
          "name": "stdout",
          "text": [
            "Hello World\n"
          ]
        }
      ]
    },
    {
      "cell_type": "markdown",
      "source": [
        "###str.strip()\n",
        "Removes leading and trailing whitespace (or other specified characters)."
      ],
      "metadata": {
        "id": "GH_5GU4gN0LZ"
      }
    },
    {
      "cell_type": "code",
      "source": [
        "s = \"  good morning  \"\n",
        "print(s.strip())\n"
      ],
      "metadata": {
        "colab": {
          "base_uri": "https://localhost:8080/"
        },
        "id": "kO3js7IPN23O",
        "outputId": "ef86f4ae-1760-41b2-e7f9-efb6832f203a"
      },
      "execution_count": null,
      "outputs": [
        {
          "output_type": "stream",
          "name": "stdout",
          "text": [
            "good morning\n"
          ]
        }
      ]
    },
    {
      "cell_type": "markdown",
      "source": [
        "###str.split(separator)\n",
        "Splits the string into a list of substrings based on the specified separator."
      ],
      "metadata": {
        "id": "R0qE8myWOBKt"
      }
    },
    {
      "cell_type": "code",
      "source": [
        "s = \"nice weather\"\n",
        "print(s.split())  #\n"
      ],
      "metadata": {
        "colab": {
          "base_uri": "https://localhost:8080/"
        },
        "id": "rEMUDfEtOG7n",
        "outputId": "2a14467e-58eb-4460-efd7-f0930b483e17"
      },
      "execution_count": null,
      "outputs": [
        {
          "output_type": "stream",
          "name": "stdout",
          "text": [
            "['nice', 'weather']\n"
          ]
        }
      ]
    },
    {
      "cell_type": "markdown",
      "source": [
        "### Q9. How do you perform string slicing in Python?\n",
        "String slicing in Python allows you to create a substring by specifying a start and an end index, and optionally a step value.\n",
        "\n"
      ],
      "metadata": {
        "id": "ihm0x5aMFYT9"
      }
    },
    {
      "cell_type": "code",
      "source": [
        "string[start:end:step]"
      ],
      "metadata": {
        "id": "W_YPAlFHGDbl"
      },
      "execution_count": null,
      "outputs": []
    },
    {
      "cell_type": "code",
      "source": [
        "text = 'Have a good day'\n",
        "# Slice from index 0 to index 5 (exclusive)\n",
        "print(text[0:5])\n"
      ],
      "metadata": {
        "colab": {
          "base_uri": "https://localhost:8080/"
        },
        "id": "8hCnmw5oGRuv",
        "outputId": "e62a6949-16fa-4f87-b312-fe7050809479"
      },
      "execution_count": 3,
      "outputs": [
        {
          "output_type": "stream",
          "name": "stdout",
          "text": [
            "Have \n"
          ]
        }
      ]
    },
    {
      "cell_type": "code",
      "source": [
        "# Slice from index 7 to the end\n",
        "print(text[7:])"
      ],
      "metadata": {
        "colab": {
          "base_uri": "https://localhost:8080/"
        },
        "id": "960SazN-GrMG",
        "outputId": "0481755e-f51e-4f40-81af-d8613b8b61fd"
      },
      "execution_count": 4,
      "outputs": [
        {
          "output_type": "stream",
          "name": "stdout",
          "text": [
            "good day\n"
          ]
        }
      ]
    },
    {
      "cell_type": "code",
      "source": [
        "# Slice from the beginning to index 5 (exclusive)\n",
        "print(text[:5])"
      ],
      "metadata": {
        "colab": {
          "base_uri": "https://localhost:8080/"
        },
        "id": "kEC6VjcYGvH4",
        "outputId": "2525a785-60e8-408e-dd8b-1434915f92ff"
      },
      "execution_count": 5,
      "outputs": [
        {
          "output_type": "stream",
          "name": "stdout",
          "text": [
            "Have \n"
          ]
        }
      ]
    },
    {
      "cell_type": "code",
      "source": [
        "# Slice the whole string\n",
        "print(text[:])"
      ],
      "metadata": {
        "colab": {
          "base_uri": "https://localhost:8080/"
        },
        "id": "Hpj3AF1HGy7k",
        "outputId": "efcf068d-a717-4f67-c56c-261dc14c299e"
      },
      "execution_count": 6,
      "outputs": [
        {
          "output_type": "stream",
          "name": "stdout",
          "text": [
            "Have a good day\n"
          ]
        }
      ]
    },
    {
      "cell_type": "code",
      "source": [
        "#using negative indices\n",
        "# Slice the last character\n",
        "print(text[-1])"
      ],
      "metadata": {
        "colab": {
          "base_uri": "https://localhost:8080/"
        },
        "id": "oHnTJtVHHIx2",
        "outputId": "24081087-ff72-4d20-c5da-3e56745099f2"
      },
      "execution_count": 7,
      "outputs": [
        {
          "output_type": "stream",
          "name": "stdout",
          "text": [
            "y\n"
          ]
        }
      ]
    },
    {
      "cell_type": "code",
      "source": [
        "# Slice from index -6 to the end\n",
        "print(text[-6:])"
      ],
      "metadata": {
        "colab": {
          "base_uri": "https://localhost:8080/"
        },
        "id": "QaMPC9nAHMvk",
        "outputId": "ce1a330b-46f3-496f-e2f6-85b4b0b922b5"
      },
      "execution_count": 8,
      "outputs": [
        {
          "output_type": "stream",
          "name": "stdout",
          "text": [
            "od day\n"
          ]
        }
      ]
    },
    {
      "cell_type": "code",
      "source": [
        "\n",
        "# Slice from the beginning to index -7 (exclusive)\n",
        "print(text[:-7])\n",
        "\n"
      ],
      "metadata": {
        "colab": {
          "base_uri": "https://localhost:8080/"
        },
        "id": "QQl5db-pG1q_",
        "outputId": "d55c3f6b-7112-45a4-9d7b-8e8b1e60fc11"
      },
      "execution_count": 9,
      "outputs": [
        {
          "output_type": "stream",
          "name": "stdout",
          "text": [
            "Have a g\n"
          ]
        }
      ]
    },
    {
      "cell_type": "code",
      "source": [
        "#Using Step Value\n",
        "#The step value determines the interval between each character in the slice.\n",
        "Text = \" Welcome to India\"\n",
        "# Slice every second character\n",
        "print(Text[::2])\n",
        "\n",
        "\n"
      ],
      "metadata": {
        "colab": {
          "base_uri": "https://localhost:8080/"
        },
        "id": "hBxFomVBHUra",
        "outputId": "3cef829d-bb5f-4e08-f402-30a62f748892"
      },
      "execution_count": 12,
      "outputs": [
        {
          "output_type": "stream",
          "name": "stdout",
          "text": [
            " ecm oIda\n"
          ]
        }
      ]
    },
    {
      "cell_type": "code",
      "source": [
        "# Slice every second character from index 1\n",
        "print(Text[1::2])\n",
        "\n"
      ],
      "metadata": {
        "colab": {
          "base_uri": "https://localhost:8080/"
        },
        "id": "OB_cvbc3H8LZ",
        "outputId": "2b114b98-45c8-4a9d-93d5-cbfca2c695a7"
      },
      "execution_count": 13,
      "outputs": [
        {
          "output_type": "stream",
          "name": "stdout",
          "text": [
            "Wloet ni\n"
          ]
        }
      ]
    },
    {
      "cell_type": "code",
      "source": [
        "# Slice in reverse\n",
        "print(Text[::-1])"
      ],
      "metadata": {
        "colab": {
          "base_uri": "https://localhost:8080/"
        },
        "id": "JlQ-lNljIFuQ",
        "outputId": "ac082e60-110c-4dca-f26c-dec5746bcb89"
      },
      "execution_count": 15,
      "outputs": [
        {
          "output_type": "stream",
          "name": "stdout",
          "text": [
            "aidnI ot emocleW \n"
          ]
        }
      ]
    },
    {
      "cell_type": "markdown",
      "source": [
        "####Slicing is useful in many practical scenarios, such as:\n",
        "\n",
        "###### Extracting substrings\n",
        "###### Reversing strings\n",
        "###### Skipping characters\n",
        "###### Parsing fixed-width data fields"
      ],
      "metadata": {
        "id": "RjWZlNl_IWpx"
      }
    },
    {
      "cell_type": "code",
      "source": [
        "date_str = \"2024-05-24\"\n",
        "# Extract year, month, and day\n",
        "year = date_str[:4]\n",
        "month = date_str[5:7]\n",
        "day = date_str[8:]\n",
        "\n",
        "print(year)\n",
        "print(month)\n",
        "print(day)\n"
      ],
      "metadata": {
        "colab": {
          "base_uri": "https://localhost:8080/"
        },
        "id": "co6ozmTAIoOm",
        "outputId": "79fb36d3-3021-4e0d-b69a-3044c860eb98"
      },
      "execution_count": 16,
      "outputs": [
        {
          "output_type": "stream",
          "name": "stdout",
          "text": [
            "2024\n",
            "05\n",
            "24\n"
          ]
        }
      ]
    },
    {
      "cell_type": "code",
      "source": [
        "#Write a Python program to reverse a string.\n",
        "txt = \"Hello World\"[::-1]\n",
        "print(txt)"
      ],
      "metadata": {
        "colab": {
          "base_uri": "https://localhost:8080/"
        },
        "id": "f39JnAfQMAxU",
        "outputId": "bdbcb567-af82-454f-cc69-ba2d86015483"
      },
      "execution_count": 17,
      "outputs": [
        {
          "output_type": "stream",
          "name": "stdout",
          "text": [
            "dlroW olleH\n"
          ]
        }
      ]
    },
    {
      "cell_type": "markdown",
      "source": [
        "#####Q10. Explain the different types of loops in Python (for and while) with examples\n",
        "In Python, there are two primary types of loops: for loops and while loops. Each type of loop serves different purposes and can be used to iterate over a sequence or execute a block of code multiple times based on certain conditions\n",
        "####for Loop\n",
        "A for loop in Python is used to iterate over a sequence (such as a list, tuple, dictionary, set, or string) or other iterable objects. The loop runs for each element in the sequence."
      ],
      "metadata": {
        "id": "1hA2IgeZQ1rg"
      }
    },
    {
      "cell_type": "code",
      "source": [
        "#Example: Iterating Over a List\n",
        "fruits = [\"apple\", \"banana\", \"cherry\"]\n",
        "for fruit in fruits:\n",
        "    print(fruit)\n"
      ],
      "metadata": {
        "colab": {
          "base_uri": "https://localhost:8080/"
        },
        "id": "O5KpXeXJRAJC",
        "outputId": "d91e2c0f-851d-4a13-cada-dbf5b9c23efd"
      },
      "execution_count": 19,
      "outputs": [
        {
          "output_type": "stream",
          "name": "stdout",
          "text": [
            "apple\n",
            "banana\n",
            "cherry\n"
          ]
        }
      ]
    },
    {
      "cell_type": "code",
      "source": [
        "#Example: Using range()\n",
        "#The range() function generates a sequence of numbers.\n",
        "for i in range(5):\n",
        "    print(i)\n"
      ],
      "metadata": {
        "colab": {
          "base_uri": "https://localhost:8080/"
        },
        "id": "j07IQHdcRT9C",
        "outputId": "e56fb6ec-9527-4950-ed77-b7648f049a0c"
      },
      "execution_count": 20,
      "outputs": [
        {
          "output_type": "stream",
          "name": "stdout",
          "text": [
            "0\n",
            "1\n",
            "2\n",
            "3\n",
            "4\n"
          ]
        }
      ]
    },
    {
      "cell_type": "code",
      "source": [
        "#Iterating Over a String\n",
        "for char in \"Hello\":\n",
        "    print(char)\n"
      ],
      "metadata": {
        "colab": {
          "base_uri": "https://localhost:8080/"
        },
        "id": "-kuUhvsARe_O",
        "outputId": "b794e714-a41f-4bc4-a937-ba7a9dcb4938"
      },
      "execution_count": 21,
      "outputs": [
        {
          "output_type": "stream",
          "name": "stdout",
          "text": [
            "H\n",
            "e\n",
            "l\n",
            "l\n",
            "o\n"
          ]
        }
      ]
    },
    {
      "cell_type": "markdown",
      "source": [
        "####while Loop\n",
        "A while loop in Python repeatedly executes a block of code as long as a given condition is True. The condition is checked before the execution of the loop body."
      ],
      "metadata": {
        "id": "qM7eu48ZRsXs"
      }
    },
    {
      "cell_type": "code",
      "source": [
        "#Example: Simple while Loop\n",
        "count = 0\n",
        "while count < 5:\n",
        "    print(count)\n",
        "    count += 1\n"
      ],
      "metadata": {
        "colab": {
          "base_uri": "https://localhost:8080/"
        },
        "id": "4ppxKqWARw-7",
        "outputId": "f574d0df-6bdf-493a-dfbd-cad15fbe8a5b"
      },
      "execution_count": 22,
      "outputs": [
        {
          "output_type": "stream",
          "name": "stdout",
          "text": [
            "0\n",
            "1\n",
            "2\n",
            "3\n",
            "4\n"
          ]
        }
      ]
    },
    {
      "cell_type": "code",
      "source": [
        "#Example: Infinite Loop with Break\n",
        "while True:\n",
        "    user_input = input(\"Enter 'exit' to stop: \")\n",
        "    if user_input == 'exit':\n",
        "        break\n",
        "    print(\"You entered:\", user_input)\n"
      ],
      "metadata": {
        "colab": {
          "base_uri": "https://localhost:8080/"
        },
        "id": "-EEQasE1R7VZ",
        "outputId": "08937b71-f66b-4716-d3d2-efcbef8e15d5"
      },
      "execution_count": 23,
      "outputs": [
        {
          "name": "stdout",
          "output_type": "stream",
          "text": [
            "Enter 'exit' to stop: exit\n"
          ]
        }
      ]
    },
    {
      "cell_type": "code",
      "source": [
        "#Combining for and while Loops\n",
        "for i in range(5):\n",
        "    print(i)\n",
        "else:\n",
        "    print(\"Loop completed\")\n",
        "\n",
        "count = 0\n",
        "while count < 5:\n",
        "    print(count)\n",
        "    count += 1\n",
        "else:\n",
        "    print(\"Loop completed\")\n",
        "\n"
      ],
      "metadata": {
        "colab": {
          "base_uri": "https://localhost:8080/"
        },
        "id": "AvOxhTJlSPB6",
        "outputId": "b9fa1637-cdde-4ecb-9d94-51d55986a377"
      },
      "execution_count": 24,
      "outputs": [
        {
          "output_type": "stream",
          "name": "stdout",
          "text": [
            "0\n",
            "1\n",
            "2\n",
            "3\n",
            "4\n",
            "Loop completed\n",
            "0\n",
            "1\n",
            "2\n",
            "3\n",
            "4\n",
            "Loop completed\n"
          ]
        }
      ]
    },
    {
      "cell_type": "markdown",
      "source": [
        "##### for Loop: Iterates over a sequence or iterable, executing the block of code for each element.\n",
        "##### while Loop: Repeatedly executes the block of code as long as the condition is True.\n",
        "Both loops can be controlled using break and continue statements, and can include an else clause that runs if the loop completes normally. These loops are fundamental in controlling the flow of a Python program and are widely used in various applications."
      ],
      "metadata": {
        "id": "GG0LF5D3S04H"
      }
    },
    {
      "cell_type": "markdown",
      "source": [
        "####Q12. How do you use the break and continue statements in loops?\n",
        "\n",
        "The break and continue statements are used to control the flow of loops in Python. Here's a detailed explanation of how to use them with examples:\n",
        "\n",
        "break Statement\n",
        "The break statement is used to exit a loop prematurely. When the break statement is executed, the loop terminates immediately, and the program continues with the next statement after the loop.\n",
        "\n"
      ],
      "metadata": {
        "id": "5JbbLV30TJZf"
      }
    },
    {
      "cell_type": "code",
      "source": [
        "#example\n",
        "for i in range(10):\n",
        "    if i == 5:\n",
        "        break\n",
        "    print(i)\n"
      ],
      "metadata": {
        "colab": {
          "base_uri": "https://localhost:8080/"
        },
        "id": "ww5o4B1oTbkT",
        "outputId": "23f186bf-1399-4ca3-c3f2-8e5fac7902c8"
      },
      "execution_count": 25,
      "outputs": [
        {
          "output_type": "stream",
          "name": "stdout",
          "text": [
            "0\n",
            "1\n",
            "2\n",
            "3\n",
            "4\n"
          ]
        }
      ]
    },
    {
      "cell_type": "code",
      "source": [
        "#Example: Using break in a while Loop\n",
        "count = 0\n",
        "while count < 10:\n",
        "    if count == 5:\n",
        "        break\n",
        "    print(count)\n",
        "    count += 1\n"
      ],
      "metadata": {
        "colab": {
          "base_uri": "https://localhost:8080/"
        },
        "id": "rW8k_lTKTju9",
        "outputId": "df1c2e78-04ba-40e8-a8d4-575b58ffbbe3"
      },
      "execution_count": 26,
      "outputs": [
        {
          "output_type": "stream",
          "name": "stdout",
          "text": [
            "0\n",
            "1\n",
            "2\n",
            "3\n",
            "4\n"
          ]
        }
      ]
    },
    {
      "cell_type": "markdown",
      "source": [
        "#### continue Statement\n",
        "The continue statement is used to skip the rest of the code inside the current loop iteration and move to the next iteration of the loop."
      ],
      "metadata": {
        "id": "U9_7cQkyTr9d"
      }
    },
    {
      "cell_type": "code",
      "source": [
        "#Example: Using continue in a for Loop\n",
        "for i in range(10):\n",
        "    if i % 2 == 0:\n",
        "        continue\n",
        "    print(i)\n"
      ],
      "metadata": {
        "colab": {
          "base_uri": "https://localhost:8080/"
        },
        "id": "aPbG9MWnTvGa",
        "outputId": "1fdf0071-ff01-443d-b166-7cb8a32d59bd"
      },
      "execution_count": 27,
      "outputs": [
        {
          "output_type": "stream",
          "name": "stdout",
          "text": [
            "1\n",
            "3\n",
            "5\n",
            "7\n",
            "9\n"
          ]
        }
      ]
    },
    {
      "cell_type": "code",
      "source": [
        "#using Continue in a while loop\n",
        "count = 0\n",
        "while count < 10:\n",
        "    count += 1\n",
        "    if count % 2 == 0:\n",
        "        continue\n",
        "    print(count)\n"
      ],
      "metadata": {
        "colab": {
          "base_uri": "https://localhost:8080/"
        },
        "id": "slI6E0JLT5Rl",
        "outputId": "f7a596ac-21f2-447e-a8fc-84f2f5f91045"
      },
      "execution_count": 28,
      "outputs": [
        {
          "output_type": "stream",
          "name": "stdout",
          "text": [
            "1\n",
            "3\n",
            "5\n",
            "7\n",
            "9\n"
          ]
        }
      ]
    },
    {
      "cell_type": "code",
      "source": [
        "#Using break and continue Together\n",
        "#We can use both break and continue statements in the same loop to control the flow more precisely.\n",
        "\n",
        "for i in range(10):\n",
        "    if i % 2 == 0:\n",
        "        continue  # Skip even numbers\n",
        "    if i == 7:\n",
        "        break  # Exit the loop when i is 7\n",
        "    print(i)\n"
      ],
      "metadata": {
        "colab": {
          "base_uri": "https://localhost:8080/"
        },
        "id": "rxf8xZuKUGRd",
        "outputId": "2903c1b2-56dd-4fd9-af9f-05eb3cd8d8c2"
      },
      "execution_count": 29,
      "outputs": [
        {
          "output_type": "stream",
          "name": "stdout",
          "text": [
            "1\n",
            "3\n",
            "5\n"
          ]
        }
      ]
    },
    {
      "cell_type": "code",
      "source": [
        "#Searching in a List\n",
        "#We can use break to exit a loop when a condition is met, such as finding an element in a list.\n",
        "names = [\"Alice\", \"Bob\", \"Charlie\", \"David\"]\n",
        "for name in names:\n",
        "    if name == \"Charlie\":\n",
        "        print(\"Found Charlie!\")\n",
        "        break\n",
        "\n"
      ],
      "metadata": {
        "colab": {
          "base_uri": "https://localhost:8080/"
        },
        "id": "KTTEYRUyUS-B",
        "outputId": "23194b59-6812-46d5-e0e4-feddf2016bef"
      },
      "execution_count": 30,
      "outputs": [
        {
          "output_type": "stream",
          "name": "stdout",
          "text": [
            "Found Charlie!\n"
          ]
        }
      ]
    },
    {
      "cell_type": "code",
      "source": [
        "#Skipping Unwanted Data\n",
        "#We can use continue to skip processing unwanted data, such as skipping empty lines in a file.\n",
        "lines = [\"First line\", \"\", \"Second line\", \"Third line\", \"\"]\n",
        "for line in lines:\n",
        "    if line == \"\":\n",
        "        continue  # Skip empty lines\n",
        "    print(line)\n"
      ],
      "metadata": {
        "colab": {
          "base_uri": "https://localhost:8080/"
        },
        "id": "slwnFDICUod0",
        "outputId": "a2f70f9b-8caf-4ede-c49f-cf256be1bfe9"
      },
      "execution_count": 31,
      "outputs": [
        {
          "output_type": "stream",
          "name": "stdout",
          "text": [
            "First line\n",
            "Second line\n",
            "Third line\n"
          ]
        }
      ]
    },
    {
      "cell_type": "markdown",
      "source": [
        "##### break: Exits the loop immediately.\n",
        "##### continue: Skips the rest of the current loop iteration and moves to the next iteration."
      ],
      "metadata": {
        "id": "cB2qnv5QU49c"
      }
    },
    {
      "cell_type": "code",
      "source": [
        "#Write a Python program to print the multiplication table of a given number using a loop.\n",
        "number = int(input(\"Enter a number to print its multiplication table: \"))\n",
        "\n",
        "# Loop to print the multiplication table\n",
        "for i in range(1, 11):\n",
        "    result = number * i\n",
        "    print(f\"{number} x {i} = {result}\")\n"
      ],
      "metadata": {
        "colab": {
          "base_uri": "https://localhost:8080/"
        },
        "id": "pxSXdrA9U9ZA",
        "outputId": "80834519-c9d7-4b37-a785-f528a1e8041a"
      },
      "execution_count": 32,
      "outputs": [
        {
          "output_type": "stream",
          "name": "stdout",
          "text": [
            "Enter a number to print its multiplication table: 13\n",
            "13 x 1 = 13\n",
            "13 x 2 = 26\n",
            "13 x 3 = 39\n",
            "13 x 4 = 52\n",
            "13 x 5 = 65\n",
            "13 x 6 = 78\n",
            "13 x 7 = 91\n",
            "13 x 8 = 104\n",
            "13 x 9 = 117\n",
            "13 x 10 = 130\n"
          ]
        }
      ]
    },
    {
      "cell_type": "code",
      "source": [
        "#Write a Python program to check if a number is even or odd using conditionalstatements.\n",
        "x = 24\n",
        "\n",
        "if x % 24 == 0:\n",
        "    print(x,\"Is Even Number\")\n",
        "else:\n",
        "    print(x, \"Is Odd Number\")\n",
        "\n",
        "y = 190\n",
        "\n",
        "if y % x == 0:\n",
        "    print(y,\"Is Even Number\")\n",
        "else:\n",
        "    print(y, \"Is Odd Number\")"
      ],
      "metadata": {
        "colab": {
          "base_uri": "https://localhost:8080/"
        },
        "id": "kMmH26Y6bP3z",
        "outputId": "3d6118fd-0b54-4932-a76b-89fa1337e50d"
      },
      "execution_count": 35,
      "outputs": [
        {
          "output_type": "stream",
          "name": "stdout",
          "text": [
            "24 Is Even Number\n",
            "190 Is Odd Number\n"
          ]
        }
      ]
    },
    {
      "cell_type": "markdown",
      "source": [
        "####Q15. What is the purpose of functions in Python? How do you define and call a function?\n",
        "\n",
        "\n",
        "Functions serve as reusable blocks of code that perform specific tasks. They offer several benefits, including improved efficiency, reduced errors, and enhanced readability.\n",
        "\n",
        "Defining a Function:\n",
        "To define a function, use the def keyword followed by the function name and parentheses.\n",
        "\n"
      ],
      "metadata": {
        "id": "pOswKCogcgk6"
      }
    },
    {
      "cell_type": "code",
      "source": [
        "def greet():\n",
        "    print(\"Hello from a function\")\n"
      ],
      "metadata": {
        "id": "4cUVYiG4bdQ6"
      },
      "execution_count": 37,
      "outputs": []
    },
    {
      "cell_type": "code",
      "source": [
        "#Calling a Function:\n",
        "#To call a function, simply use its name followed by parentheses.\n",
        "greet()  # Calls the 'greet' function\n",
        "\n"
      ],
      "metadata": {
        "colab": {
          "base_uri": "https://localhost:8080/"
        },
        "id": "XcPaZaHNc_uL",
        "outputId": "560c605e-7fa0-4107-a2ad-a1917932d9f2"
      },
      "execution_count": 38,
      "outputs": [
        {
          "output_type": "stream",
          "name": "stdout",
          "text": [
            "Hello from a function\n"
          ]
        }
      ]
    },
    {
      "cell_type": "code",
      "source": [
        "#Passing Arguments:\n",
        "#Functions can accept arguments (data) when called. You specify arguments inside the parentheses.\n",
        "#Example\n",
        "def greet(name):\n",
        "    print(f\"Hello, {name}!\")\n",
        "greet(\"Alice\")\n"
      ],
      "metadata": {
        "colab": {
          "base_uri": "https://localhost:8080/"
        },
        "id": "0bOZtZvRdH2a",
        "outputId": "799e9784-7313-41a8-d0a6-7ab7930a99a1"
      },
      "execution_count": 39,
      "outputs": [
        {
          "output_type": "stream",
          "name": "stdout",
          "text": [
            "Hello, Alice!\n"
          ]
        }
      ]
    },
    {
      "cell_type": "code",
      "source": [
        "#If we don’t know how many arguments a function will receive, use *args to handle a variable number of arguments.\n",
        "def print_kids(*kids):\n",
        "    print(f\"The youngest child is {kids[2]}\")\n",
        "print_kids(\"Emil\", \"Tobias\", \"Linus\")\n"
      ],
      "metadata": {
        "colab": {
          "base_uri": "https://localhost:8080/"
        },
        "id": "1RazKQcXdafB",
        "outputId": "3cbb5ce3-2930-4805-a29d-0d142fc10a2e"
      },
      "execution_count": 40,
      "outputs": [
        {
          "output_type": "stream",
          "name": "stdout",
          "text": [
            "The youngest child is Linus\n"
          ]
        }
      ]
    },
    {
      "cell_type": "code",
      "source": [
        "#We can send arguments using the key=value syntax, allowing usto specify them in any order.\n",
        "def print_children(child1, child2, child3):\n",
        "    print(f\"The eldest child is {child1}\")\n",
        "print_children(child1=\"Emil\", child2=\"Tobias\", child3=\"Linus\")\n"
      ],
      "metadata": {
        "colab": {
          "base_uri": "https://localhost:8080/"
        },
        "id": "EyTwEZMXdvkt",
        "outputId": "806a940b-9c51-49dc-8257-097440133df5"
      },
      "execution_count": 42,
      "outputs": [
        {
          "output_type": "stream",
          "name": "stdout",
          "text": [
            "The eldest child is Emil\n"
          ]
        }
      ]
    },
    {
      "cell_type": "markdown",
      "source": [
        "####Q16. Write a Python function to calculate the factorial of a given number."
      ],
      "metadata": {
        "id": "4PGIAq-ieddC"
      }
    },
    {
      "cell_type": "code",
      "source": [
        "def factorial(n):\n",
        "\n",
        "    # single line to find factorial\n",
        "    return 1 if (n==1 or n==0) else n * factorial(n - 1)\n",
        "\n",
        "# Driver Code\n",
        "num = 10\n",
        "print(\"Factorial of\",num,\"is\",factorial(num))"
      ],
      "metadata": {
        "colab": {
          "base_uri": "https://localhost:8080/"
        },
        "id": "8bhEeE-2eiU6",
        "outputId": "9d1e6d8c-f1b6-4417-ff61-b10262cda857"
      },
      "execution_count": 43,
      "outputs": [
        {
          "output_type": "stream",
          "name": "stdout",
          "text": [
            "Factorial of 10 is 3628800\n"
          ]
        }
      ]
    },
    {
      "cell_type": "markdown",
      "source": [
        "####Q17. Write a Python function to check if a string is a palindrome."
      ],
      "metadata": {
        "id": "CsIGKVOKe7gx"
      }
    },
    {
      "cell_type": "code",
      "source": [
        "# function which return reverse of a string\n",
        "\n",
        "def isPalindrome(s):\n",
        "    return s == s[::-1]\n",
        "\n",
        "\n",
        "# Driver code\n",
        "s = \"malayalam\"\n",
        "ans = isPalindrome(s)\n",
        "\n",
        "if ans:\n",
        "    print(\"Yes\")\n",
        "else:\n",
        "    print(\"No\")"
      ],
      "metadata": {
        "colab": {
          "base_uri": "https://localhost:8080/"
        },
        "id": "P3uQbgBqe2SQ",
        "outputId": "1a7dc590-1fa6-4f61-a58d-c75fd101f5d2"
      },
      "execution_count": 44,
      "outputs": [
        {
          "output_type": "stream",
          "name": "stdout",
          "text": [
            "Yes\n"
          ]
        }
      ]
    },
    {
      "cell_type": "markdown",
      "source": [
        "#### Q18. Implement a decorator in Python that calculates the execution time of a function"
      ],
      "metadata": {
        "id": "VVQxL6-2fzRs"
      }
    },
    {
      "cell_type": "code",
      "source": [
        "import time\n",
        "\n",
        "def timer_func(func):\n",
        "    def wrapper(*args, **kwargs):\n",
        "        start_time = time.time()\n",
        "        result = func(*args, **kwargs)\n",
        "        end_time = time.time()\n",
        "        execution_time = end_time - start_time\n",
        "        print(f\"Function {func.__name__} took {execution_time:.4f} seconds to execute\")\n",
        "        return result\n",
        "    return wrapper\n",
        "\n",
        "@timer_func\n",
        "def example_function():\n",
        "    # Your function code here\n",
        "    pass\n",
        "\n",
        "example_function()  # Call the decorated function\n"
      ],
      "metadata": {
        "colab": {
          "base_uri": "https://localhost:8080/"
        },
        "id": "7x2XkUQxfyIN",
        "outputId": "b86b8a20-680b-4c4e-ccd9-ef7fbd4a56c7"
      },
      "execution_count": 1,
      "outputs": [
        {
          "output_type": "stream",
          "name": "stdout",
          "text": [
            "Function example_function took 0.0000 seconds to execute\n"
          ]
        }
      ]
    },
    {
      "cell_type": "markdown",
      "source": [
        "#### Q19 Write a Python program to find the sum of all even numbers in a list using lambda functions"
      ],
      "metadata": {
        "id": "Ih1oWFXJDgm5"
      }
    },
    {
      "cell_type": "code",
      "source": [
        "# Using lambda function to check even or odd number\n",
        "\n",
        "# Get input from the user\n",
        "numbers = input(\"Enter a list of numbers separated by spaces: \").split()\n",
        "\n",
        "# Convert the input into a list of integers\n",
        "numbers = [int(num) for num in numbers]\n",
        "\n",
        "# Check if each number is even or odd using lambda function\n",
        "results = list(map(lambda num: \"even\" if num % 2 == 0 else \"odd\", numbers))\n",
        "\n",
        "# Print the results\n",
        "for num, result in zip(numbers, results):\n",
        "    print(\"Number {} is {}\".format(num, result))"
      ],
      "metadata": {
        "colab": {
          "base_uri": "https://localhost:8080/"
        },
        "id": "zgosdVKUEBwf",
        "outputId": "b5a983a2-2995-4a1e-ccbb-51cc0450b9c3"
      },
      "execution_count": 5,
      "outputs": [
        {
          "output_type": "stream",
          "name": "stdout",
          "text": [
            "Enter a list of numbers separated by spaces: 3 0 47 363 28 772\n",
            "Number 3 is odd\n",
            "Number 0 is even\n",
            "Number 47 is odd\n",
            "Number 363 is odd\n",
            "Number 28 is even\n",
            "Number 772 is even\n"
          ]
        }
      ]
    },
    {
      "cell_type": "markdown",
      "source": [
        "#### Q20. What is the purpose of the init() method in Python classes?\n",
        "\n",
        "##### The __init__() method in Python classes is a special method called a constructor. It is automatically invoked when a new instance of a class is created. The primary purpose of the __init__() method is to initialize the attributes of the class with values provided as arguments when the object is instantiated."
      ],
      "metadata": {
        "id": "1MJOpOHxEzt6"
      }
    },
    {
      "cell_type": "code",
      "source": [
        "class Person:\n",
        "    def __init__(self, name, age):\n",
        "        self.name = name\n",
        "        self.age = age\n",
        "\n",
        "# Creating an instance of the Person class\n",
        "person1 = Person(\"Han Lamers\", 30)\n",
        "\n",
        "# Accessing attributes\n",
        "print(person1.name)\n",
        "print(person1.age)\n"
      ],
      "metadata": {
        "colab": {
          "base_uri": "https://localhost:8080/"
        },
        "id": "jWV3DSn8Et5W",
        "outputId": "f1646737-d91d-4638-a1bb-630f90bd8f88"
      },
      "execution_count": 6,
      "outputs": [
        {
          "output_type": "stream",
          "name": "stdout",
          "text": [
            "Han Lamers\n",
            "30\n"
          ]
        }
      ]
    },
    {
      "cell_type": "markdown",
      "source": [
        "#### Benefits of __init__() Method:\n",
        "##### Encapsulation: Helps in bundling the data (attributes) with the methods (functions) that operate on the data.\n",
        "##### Ease of Object Creation: Simplifies object creation by initializing attributes automatically.\n",
        "##### Default Values: Allows setting default values for attributes if no specific values are provided during object creation."
      ],
      "metadata": {
        "id": "rrKzh2nXFb-s"
      }
    },
    {
      "cell_type": "code",
      "source": [
        "class Person:\n",
        "    def __init__(self, name=\"Unknown\", age=0):\n",
        "        self.name = name\n",
        "        self.age = age\n",
        "\n",
        "# Creating instances with and without arguments\n",
        "person1 = Person(\"Han Lamers\", 30)\n",
        "person2 = Person()\n",
        "\n",
        "print(person1.name)\n",
        "print(person1.age)\n",
        "print(person2.name)\n",
        "print(person2.age)\n"
      ],
      "metadata": {
        "colab": {
          "base_uri": "https://localhost:8080/"
        },
        "id": "8X1YMR93FoiM",
        "outputId": "d492af4a-5245-447f-8591-48fe669701b4"
      },
      "execution_count": 7,
      "outputs": [
        {
          "output_type": "stream",
          "name": "stdout",
          "text": [
            "Han Lamers\n",
            "30\n",
            "Unknown\n",
            "0\n"
          ]
        }
      ]
    },
    {
      "cell_type": "markdown",
      "source": [
        "#### Q21. Explain the concepts of inheritance and polymorphism in Python with examples\n",
        "\n",
        "##### 1. Inheritance is a fundamental concept in object-oriented programming (OOP). It allows a child class (also called a subclass) to inherit properties (attributes) and methods from a parent class (also called a base class).\n",
        "\n",
        "In Python, we can create a new class by extending an existing class. The new class automatically inherits all the attributes and methods of the parent class.\n",
        "\n",
        "Method Overriding: Inheritance also allows you to override methods inherited from the parent class. This means you can modify a method in the child class to better suit its specific behavior."
      ],
      "metadata": {
        "id": "n5eJq4vHF6OF"
      }
    },
    {
      "cell_type": "code",
      "source": [
        "class Animal:\n",
        "    def speak(self):\n",
        "        raise NotImplementedError(\"Subclass must implement this method\")\n",
        "\n",
        "class Dog(Animal):\n",
        "    def speak(self):\n",
        "        print(\"Woof!\")\n",
        "\n",
        "class Cat(Animal):\n",
        "    def speak(self):\n",
        "        print(\"Meow!\")\n",
        "\n",
        "dog = Dog()\n",
        "cat = Cat()\n",
        "dog.speak()\n",
        "cat.speak()\n"
      ],
      "metadata": {
        "colab": {
          "base_uri": "https://localhost:8080/"
        },
        "id": "MVY6ZE_-GciK",
        "outputId": "7d5c5919-2711-47e8-bbb7-e7fc3c0896d3"
      },
      "execution_count": 8,
      "outputs": [
        {
          "output_type": "stream",
          "name": "stdout",
          "text": [
            "Woof!\n",
            "Meow!\n"
          ]
        }
      ]
    },
    {
      "cell_type": "markdown",
      "source": [
        "##### 2. Polymorphism:\n",
        "Polymorphism means having many forms. In Python, it refers to the ability of different objects or classes to be treated uniformly using a common interface.\n",
        "\n",
        "Polymorphism allows you to use the same method name (but with different implementations) for different types or classes.\n",
        "\n"
      ],
      "metadata": {
        "id": "BwsxbNStGvMs"
      }
    },
    {
      "cell_type": "code",
      "source": [
        "print(len(\"Programiz\"))\n",
        "print(len([10, 20, 30]))\n"
      ],
      "metadata": {
        "colab": {
          "base_uri": "https://localhost:8080/"
        },
        "id": "gEUZJgYfG4yK",
        "outputId": "8c5baa9a-a163-4739-e46d-bab7ed437f10"
      },
      "execution_count": 9,
      "outputs": [
        {
          "output_type": "stream",
          "name": "stdout",
          "text": [
            "9\n",
            "3\n"
          ]
        }
      ]
    },
    {
      "cell_type": "code",
      "source": [
        "#Class Polymorphism:\n",
        "#We can create different classes with methods having the same name but different implementations.\n",
        "class India:\n",
        "    def capital(self):\n",
        "        print(\"New Delhi is the capital of India.\")\n",
        "\n",
        "    def language(self):\n",
        "        print(\"Hindi is the most widely spoken language of India.\")\n",
        "\n",
        "class USA:\n",
        "    def capital(self):\n",
        "        print(\"Washington, D.C. is the capital of USA.\")\n",
        "\n",
        "    def language(self):\n",
        "        print(\"English is the primary language of USA.\")\n",
        "\n",
        "ind_obj = India()\n",
        "usa_obj = USA()\n",
        "\n",
        "for country in (ind_obj, usa_obj):\n",
        "    country.capital()\n",
        "    country.language()\n"
      ],
      "metadata": {
        "colab": {
          "base_uri": "https://localhost:8080/"
        },
        "id": "3zivsKS3G-1l",
        "outputId": "9fdd644c-110e-46a3-9aa2-566e1b292aa1"
      },
      "execution_count": 10,
      "outputs": [
        {
          "output_type": "stream",
          "name": "stdout",
          "text": [
            "New Delhi is the capital of India.\n",
            "Hindi is the most widely spoken language of India.\n",
            "Washington, D.C. is the capital of USA.\n",
            "English is the primary language of USA.\n"
          ]
        }
      ]
    },
    {
      "cell_type": "code",
      "source": [
        "#Polymorphism with Inheritance:\n",
        "#Child classes can override methods inherited from the parent class.\n",
        "class Bird:\n",
        "    def intro(self):\n",
        "        print(\"There are many types of birds.\")\n",
        "\n",
        "    def flight(self):\n",
        "        print(\"Most birds can fly but some cannot.\")\n",
        "\n",
        "class Sparrow(Bird):\n",
        "    def flight(self):\n",
        "        print(\"Sparrows can fly.\")\n",
        "\n",
        "class Ostrich(Bird):\n",
        "    def flight(self):\n",
        "        print(\"Ostriches cannot fly.\")\n",
        "\n",
        "bird = Bird()\n",
        "sparrow = Sparrow()\n",
        "ostrich = Ostrich()\n",
        "\n",
        "bird.intro()\n",
        "bird.flight()\n",
        "sparrow.intro()\n",
        "sparrow.flight()\n",
        "ostrich.intro()\n",
        "ostrich.flight()\n"
      ],
      "metadata": {
        "colab": {
          "base_uri": "https://localhost:8080/"
        },
        "id": "KGqiS-LoHJYH",
        "outputId": "ac9cda8d-003c-4d32-c671-6e9b712087a3"
      },
      "execution_count": 11,
      "outputs": [
        {
          "output_type": "stream",
          "name": "stdout",
          "text": [
            "There are many types of birds.\n",
            "Most birds can fly but some cannot.\n",
            "There are many types of birds.\n",
            "Sparrows can fly.\n",
            "There are many types of birds.\n",
            "Ostriches cannot fly.\n"
          ]
        }
      ]
    },
    {
      "cell_type": "code",
      "source": [
        "#Q22.Fill in the blanks to create a list of integers from 1 to 10:\n",
        "numbers = [__ for i__ in\n",
        "range(__10__)]"
      ],
      "metadata": {
        "id": "kPksPHG7HY_Y"
      },
      "execution_count": null,
      "outputs": []
    },
    {
      "cell_type": "code",
      "source": [
        "numbers = [i for i in range(1, 11)]"
      ],
      "metadata": {
        "id": "ExFW7ITOHsx3"
      },
      "execution_count": 12,
      "outputs": []
    },
    {
      "cell_type": "code",
      "source": [
        "#Q23.Fill in the blanks to create a dictionary with keys as numbers from 1 to 5 and values as their squares:\n",
        "squared_numbers = {i: i ** 2 for i in range(1, 6)}\n",
        "squared_numbers\n"
      ],
      "metadata": {
        "colab": {
          "base_uri": "https://localhost:8080/"
        },
        "id": "J693qNsRIJ2k",
        "outputId": "1e1edeb8-3dda-4b10-c088-734a23be399d"
      },
      "execution_count": 14,
      "outputs": [
        {
          "output_type": "execute_result",
          "data": {
            "text/plain": [
              "{1: 1, 2: 4, 3: 9, 4: 16, 5: 25}"
            ]
          },
          "metadata": {},
          "execution_count": 14
        }
      ]
    },
    {
      "cell_type": "markdown",
      "source": [
        "####Q24. Fill in the blanks to print the elements of a list using a for loop:\n",
        "fruits = [\"apple\",\n",
        "\"banana\", \"cherry\"] for __ in ____: print(__)"
      ],
      "metadata": {
        "id": "55H5brO-KSLq"
      }
    },
    {
      "cell_type": "code",
      "source": [
        "fruits = [\"apple\",\"banana\", \"cherry\"]\n",
        "for fruit in fruits: print(fruits)"
      ],
      "metadata": {
        "colab": {
          "base_uri": "https://localhost:8080/"
        },
        "id": "r6UVAEAGJg5b",
        "outputId": "5a6ad4ea-2f66-40b4-826e-80f684672d17"
      },
      "execution_count": null,
      "outputs": [
        {
          "output_type": "stream",
          "name": "stdout",
          "text": [
            "['apple', 'banana', 'cherry']\n",
            "['apple', 'banana', 'cherry']\n",
            "['apple', 'banana', 'cherry']\n"
          ]
        }
      ]
    },
    {
      "cell_type": "markdown",
      "source": [
        "##### Q25. Fill in the blanks to define a function that takes two numbers and returns their sum:\n",
        "def add_numbers(a, b): ____"
      ],
      "metadata": {
        "id": "o3Y4FQXkKvU-"
      }
    },
    {
      "cell_type": "code",
      "source": [
        "def add_numbers(a, b):\n",
        "    return a + b\n"
      ],
      "metadata": {
        "id": "CQAxQidiKq1j"
      },
      "execution_count": null,
      "outputs": []
    },
    {
      "cell_type": "code",
      "source": [
        "def add_numbers(a, b):\n",
        "    return a + b\n",
        "result = add_numbers(3, 5)\n",
        "print(\"Sum:\", result)\n"
      ],
      "metadata": {
        "colab": {
          "base_uri": "https://localhost:8080/"
        },
        "id": "MtMeie_ELKpX",
        "outputId": "b82d3f26-89e8-4261-a397-f188a9dcb5f9"
      },
      "execution_count": 18,
      "outputs": [
        {
          "output_type": "stream",
          "name": "stdout",
          "text": [
            "Sum: 8\n"
          ]
        }
      ]
    },
    {
      "cell_type": "markdown",
      "source": [
        "#### Q26 Fill in the blanks to create a lambda function that squares a number:\n",
        "\n",
        "#####square = lambdax: ____"
      ],
      "metadata": {
        "id": "0PIlT3_0LXCX"
      }
    },
    {
      "cell_type": "code",
      "source": [
        "square = lambda x: x ** 2\n",
        "result = square(5)\n",
        "print(\"Square of 5:\", result)  # Outputs: Square of 5: 25\n"
      ],
      "metadata": {
        "colab": {
          "base_uri": "https://localhost:8080/"
        },
        "id": "FUSGIMrZLTOd",
        "outputId": "0057d28b-8d92-4234-c190-bceb4bc09c8e"
      },
      "execution_count": 19,
      "outputs": [
        {
          "output_type": "stream",
          "name": "stdout",
          "text": [
            "Square of 5: 25\n"
          ]
        }
      ]
    },
    {
      "cell_type": "markdown",
      "source": [
        "#### Q27. 27. Fill in the blanks to use a conditional statement to check if a number is positive,\n",
        "negative, or zero:\n",
        "number = -5 if ____: print(\"Positive\") ____ number < 0:\n",
        "print(\"Negative\") ____: print(\"Zero\")"
      ],
      "metadata": {
        "id": "wbxT_6rvMXBM"
      }
    },
    {
      "cell_type": "code",
      "source": [
        "number = -5\n",
        "if number > 0:\n",
        "    print(\"Positive\")\n",
        "elif number < 0:\n",
        "    print(\"Negative\")\n",
        "else:\n",
        "    print(\"Zero\")\n"
      ],
      "metadata": {
        "colab": {
          "base_uri": "https://localhost:8080/"
        },
        "id": "aznTZQGSMdTk",
        "outputId": "5f8adc23-df34-48f3-efb1-1070322cb245"
      },
      "execution_count": 20,
      "outputs": [
        {
          "output_type": "stream",
          "name": "stdout",
          "text": [
            "Negative\n"
          ]
        }
      ]
    },
    {
      "cell_type": "markdown",
      "source": [
        "#####28. Fill in the blanks to create a string from a list of characters:\n",
        "#### characters = ['P', 'y', 't', 'h','o', 'n'] word = .join()"
      ],
      "metadata": {
        "id": "kcdOe3juMwFE"
      }
    },
    {
      "cell_type": "code",
      "source": [
        "characters = ['P', 'y', 't', 'h', 'o', 'n']\n",
        "word = ''.join(characters)\n",
        "print(word)\n"
      ],
      "metadata": {
        "colab": {
          "base_uri": "https://localhost:8080/"
        },
        "id": "6VZajW9TM_TJ",
        "outputId": "0aaa0aa3-b203-4161-ac8d-d4ecdbea9948"
      },
      "execution_count": 21,
      "outputs": [
        {
          "output_type": "stream",
          "name": "stdout",
          "text": [
            "Python\n"
          ]
        }
      ]
    },
    {
      "cell_type": "code",
      "source": [
        "# Q29. Fill in the blanks to use string slicing to reverse a string:\n",
        "text = \"Hello, World!\"\n",
        "reversed_text = text[::-1]\n",
        "print(reversed_text)\n"
      ],
      "metadata": {
        "colab": {
          "base_uri": "https://localhost:8080/"
        },
        "id": "CkSd08mKNETr",
        "outputId": "f4b85edc-290a-4758-f521-081eb158a97d"
      },
      "execution_count": 24,
      "outputs": [
        {
          "output_type": "stream",
          "name": "stdout",
          "text": [
            "!dlroW ,olleH\n"
          ]
        }
      ]
    },
    {
      "cell_type": "code",
      "source": [
        "#Q30. Write a Python function to calculate the factorial of a number using recursion\n",
        "def recur_factorial(n):\n",
        "    if n == 1:\n",
        "        return 1\n",
        "    else:\n",
        "        return n * recur_factorial(n - 1)\n",
        "\n",
        "num = 7\n",
        "if num < 0:\n",
        "    print(\"Sorry, factorial does not exist for negative numbers\")\n",
        "elif num == 0:\n",
        "    print(\"The factorial of 0 is 1\")\n",
        "else:\n",
        "    print(\"The factorial of\", num, \"is\", recur_factorial(num))\n"
      ],
      "metadata": {
        "colab": {
          "base_uri": "https://localhost:8080/"
        },
        "id": "cbSvqx3tNn5R",
        "outputId": "207693ee-2175-450e-aa0f-7e50df2f4978"
      },
      "execution_count": 25,
      "outputs": [
        {
          "output_type": "stream",
          "name": "stdout",
          "text": [
            "The factorial of 7 is 5040\n"
          ]
        }
      ]
    }
  ]
}