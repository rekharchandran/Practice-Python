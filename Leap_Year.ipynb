{
 "cells": [
  {
   "cell_type": "code",
   "execution_count": 6,
   "metadata": {},
   "outputs": [
    {
     "name": "stdout",
     "output_type": "stream",
     "text": [
      "which number do you want to check45\n",
      "The given number is even\n"
     ]
    }
   ],
   "source": [
    "number = int(input(\"which number do you want to check\"))\n",
    "if number % 2 == 0:\n",
    "    print(\"The given number is odd\")\n",
    "else:\n",
    "     print(\"The given number is even\")"
   ]
  },
  {
   "cell_type": "code",
   "execution_count": 17,
   "metadata": {},
   "outputs": [
    {
     "name": "stdout",
     "output_type": "stream",
     "text": [
      "what is your height80\n",
      "enter your age10\n",
      "please pay $5\n"
     ]
    }
   ],
   "source": [
    "height = int(input(\"what is your height\"))\n",
    "if height>=120:\n",
    "    print(\"You can ride the rollercoaster\")\n",
    "age = int(input(\"enter your age\"))\n",
    "if age <12:\n",
    "    print(\"please pay $5\")\n",
    "elif age <=18:\n",
    "    print(\"please pay $7\")\n",
    "else:\n",
    "     print(\"please pay $12\")\n",
    "\n",
    "\n",
    "        "
   ]
  },
  {
   "cell_type": "code",
   "execution_count": 27,
   "metadata": {},
   "outputs": [
    {
     "name": "stdout",
     "output_type": "stream",
     "text": [
      "enter your height in m:5.2\n",
      "enter your weight in kg:176.37\n",
      "your BMI is 7,you are under weight\n"
     ]
    }
   ],
   "source": [
    "### BMI\n",
    "\n",
    "height = float(input(\"enter your height in m:\"))\n",
    "weight = float(input(\"enter your weight in kg:\"))\n",
    "BMI = round(weight / (height**2))\n",
    "if BMI <= 18.5 :\n",
    "    print (f\"your BMI is {BMI},you are under weight\")\n",
    "elif BMI <25 :\n",
    "    print(f\"your BMI is {BMI},you have normal weight\")\n",
    "    \n",
    "elif BMI< 30:\n",
    "    print(f\"your BMI is {BMI},you are over weight\")\n",
    "    \n",
    "elif BMI< 35:\n",
    "    print(f\"your BMI is {BMI},you are over obese\")\n",
    "    \n",
    "else:\n",
    "    print(f\"your BMI is {BMI},you are clinically obese\")\n",
    "    \n",
    "    \n",
    "    \n",
    "    \n",
    "    \n"
   ]
  },
  {
   "cell_type": "code",
   "execution_count": 53,
   "metadata": {},
   "outputs": [
    {
     "name": "stdout",
     "output_type": "stream",
     "text": [
      "Enter the Year to be checked: 2020\n"
     ]
    }
   ],
   "source": [
    "year = int(input(\"Enter the Year to be checked: \"))\n",
    "if(year%4 == 0):\n",
    "    if(year%100 == 0):\n",
    "        if(year%400 == 0):\n",
    "            print(f\"This {year}is Leap Year\")\n",
    "        else:\n",
    "            print(f\"This {year}is not Leap Year\")\n",
    "            \n",
    "             else:\n",
    "            print(f\"This {year}is Leap Year\")\n",
    "        else:\n",
    "             print(f\"This {year}is not Leap Year\")\n",
    "\n",
    "        \n",
    "\n",
    "           \n"
   ]
  },
  {
   "cell_type": "code",
   "execution_count": 61,
   "metadata": {},
   "outputs": [
    {
     "ename": "IndentationError",
     "evalue": "unexpected indent (<ipython-input-61-d5953afa0ed4>, line 2)",
     "output_type": "error",
     "traceback": [
      "\u001b[0;36m  File \u001b[0;32m\"<ipython-input-61-d5953afa0ed4>\"\u001b[0;36m, line \u001b[0;32m2\u001b[0m\n\u001b[0;31m    if year% 4 == 0:\u001b[0m\n\u001b[0m    ^\u001b[0m\n\u001b[0;31mIndentationError\u001b[0m\u001b[0;31m:\u001b[0m unexpected indent\n"
     ]
    }
   ],
   "source": [
    "year = int(input(\"Enter the Year to be checked: \"))\n",
    "   if year% 4 == 0:\n",
    "    if year%100 == 0:\n",
    "    if year%400 == 0:\n",
    "        print(f\"This {year}is Leap Year\")\n",
    "    else:\n",
    "        print(f\"This {year}is not Leap Year\")\n",
    "    \n",
    "    else:\n",
    "        print(f\"This {year}is Leap Year\")\n",
    "    else:\n",
    "        print(f\"This {year}is not Leap Year\")\n",
    "\n",
    "   "
   ]
  },
  {
   "cell_type": "code",
   "execution_count": 64,
   "metadata": {},
   "outputs": [
    {
     "ename": "IndentationError",
     "evalue": "unexpected indent (<ipython-input-64-96c64644752a>, line 2)",
     "output_type": "error",
     "traceback": [
      "\u001b[0;36m  File \u001b[0;32m\"<ipython-input-64-96c64644752a>\"\u001b[0;36m, line \u001b[0;32m2\u001b[0m\n\u001b[0;31m    if(input_year%4 == 0):\u001b[0m\n\u001b[0m    ^\u001b[0m\n\u001b[0;31mIndentationError\u001b[0m\u001b[0;31m:\u001b[0m unexpected indent\n"
     ]
    }
   ],
   "source": [
    "input_year = int(input(\"Enter the Year to be checked: \"))\n",
    "    if(input_year%4 == 0):\n",
    "    if(input_year%100 == 0):\n",
    "    if(input_year%400 == 0):\n",
    "        print(\"%d is Leap Year\" %input_year)\n",
    "    else:\n",
    "        print(\"%d is Not the Leap Year\" %input_year)\n",
    "    else:\n",
    "        print(\"%d is Leap Year\" %input_year)\n",
    "    else:\n",
    "        print(\"%d is Not the Leap Year\" %input_year)"
   ]
  },
  {
   "cell_type": "code",
   "execution_count": null,
   "metadata": {},
   "outputs": [],
   "source": []
  },
  {
   "cell_type": "code",
   "execution_count": null,
   "metadata": {},
   "outputs": [],
   "source": []
  }
 ],
 "metadata": {
  "kernelspec": {
   "display_name": "Python 3",
   "language": "python",
   "name": "python3"
  },
  "language_info": {
   "codemirror_mode": {
    "name": "ipython",
    "version": 3
   },
   "file_extension": ".py",
   "mimetype": "text/x-python",
   "name": "python",
   "nbconvert_exporter": "python",
   "pygments_lexer": "ipython3",
   "version": "3.8.5"
  }
 },
 "nbformat": 4,
 "nbformat_minor": 4
}
