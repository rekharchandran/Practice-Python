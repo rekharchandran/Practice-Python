{
 "cells": [
  {
   "cell_type": "markdown",
   "metadata": {},
   "source": [
    "## Check Primality Functions Solutions"
   ]
  },
  {
   "cell_type": "code",
   "execution_count": 1,
   "metadata": {},
   "outputs": [],
   "source": [
    "def get_number(prompt):\n",
    "    '''Returns integer value for input. Prompt is displayed text'''\n",
    "    return int(input(prompt))\n",
    "    \n"
   ]
  },
  {
   "cell_type": "code",
   "execution_count": 2,
   "metadata": {},
   "outputs": [],
   "source": [
    "def is_prime(number):\n",
    "    '''Returns True for prime numbers, False otherwise'''\n",
    "    #Edge Cases\n",
    "    if number == 1:\n",
    "        prime = False\n",
    "    elif number == 2:\n",
    "        prime = True\n",
    "    #All other primes    \n",
    "    else:\n",
    "        prime = True\n",
    "        for check_number in range(2, (number / 2)+1):\n",
    "            if number % check_number == 0:\n",
    "                prime = False\n",
    "                break\n",
    "    return prime"
   ]
  },
  {
   "cell_type": "code",
   "execution_count": 3,
   "metadata": {},
   "outputs": [],
   "source": [
    "def print_prime(number):\n",
    "    prime = is_prime(number)\n",
    "    if prime:\n",
    "        descriptor = \"\"\n",
    "    else:\n",
    "        descriptor = \"not \"\n",
    "    print(number,\" is \", descriptor, \"prime.\", sep = \"\", end = \"\\n\\n\")"
   ]
  },
  {
   "cell_type": "code",
   "execution_count": null,
   "metadata": {},
   "outputs": [
    {
     "name": "stdout",
     "output_type": "stream",
     "text": [
      "Enter a number to check. Ctl-C to exit.2\n",
      "2 is prime.\n",
      "\n"
     ]
    }
   ],
   "source": [
    "#never ending loop\n",
    "\n",
    "while 1 == 1:\n",
    "    print_prime(get_number(\"Enter a number to check. Ctl-C to exit.\"))\n",
    "    "
   ]
  },
  {
   "cell_type": "code",
   "execution_count": null,
   "metadata": {},
   "outputs": [],
   "source": []
  }
 ],
 "metadata": {
  "kernelspec": {
   "display_name": "Python 3",
   "language": "python",
   "name": "python3"
  },
  "language_info": {
   "codemirror_mode": {
    "name": "ipython",
    "version": 3
   },
   "file_extension": ".py",
   "mimetype": "text/x-python",
   "name": "python",
   "nbconvert_exporter": "python",
   "pygments_lexer": "ipython3",
   "version": "3.7.1"
  }
 },
 "nbformat": 4,
 "nbformat_minor": 2
}
