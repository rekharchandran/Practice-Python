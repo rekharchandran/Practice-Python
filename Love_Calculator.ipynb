{
 "cells": [
  {
   "cell_type": "code",
   "execution_count": 5,
   "metadata": {},
   "outputs": [
    {
     "name": "stdout",
     "output_type": "stream",
     "text": [
      "what is your height120\n",
      "You can ride the rollercoaster\n",
      "enter your age67\n",
      "Adult ticket rates are $12\n",
      "Do you want a photo take? Y or N.y\n",
      "Sorry, you have to grow taller before you can ride\n"
     ]
    }
   ],
   "source": [
    "height = int(input(\"what is your height\"))\n",
    "if height>=120:\n",
    "    print(\"You can ride the rollercoaster\")\n",
    "age = int(input(\"enter your age\"))\n",
    "if age <12:\n",
    "    bill = 5\n",
    "    print(\"Ticket rates are $5\")\n",
    "elif age <=18:\n",
    "    bill = 7\n",
    "    print(\"Youth tickets rates are $7\")\n",
    "else:\n",
    "    bill =12\n",
    "    print(\"Adult ticket rates are $12\")\n",
    "        \n",
    "wants_photo = input(\"Do you want a photo take? Y or N.\")\n",
    "if wants_photo == \"Y\":\n",
    "    bill +=3\n",
    "     print(f\"your final bill is ${bill}\")\n",
    "    \n",
    "else:\n",
    "    print(\"Sorry, you have to grow taller before you can ride\")\n",
    "    "
   ]
  },
  {
   "cell_type": "code",
   "execution_count": 10,
   "metadata": {},
   "outputs": [
    {
     "name": "stdout",
     "output_type": "stream",
     "text": [
      "Welcome to the Python Pizza Deliveries\n",
      "What size pizza do you want? S, L or Ml\n",
      "Small Pizza:$15\n"
     ]
    }
   ],
   "source": [
    "print(\"Welcome to the Python Pizza Deliveries\")\n",
    "size = input(\"What size pizza do you want? S, L or M\")    \n",
    "if size == \"L\":\n",
    "      print(\"Large Pizza:$25\")\n",
    "elif size == \"M\":\n",
    "      print(\"Medium Pizza :$20\")\n",
    "else:\n",
    "     print(\"Small Pizza:$15\")\n",
    "\n"
   ]
  },
  {
   "cell_type": "code",
   "execution_count": 13,
   "metadata": {},
   "outputs": [
    {
     "name": "stdout",
     "output_type": "stream",
     "text": [
      "Welcome to the Python Pizza Deliveries\n",
      "What size pizza do you want? S, L or Ms\n",
      "Do you want pepperoni? Y or Ny\n",
      "Do you want extra cheese? Y or Nn\n",
      "Your final bill is $83\n"
     ]
    }
   ],
   "source": [
    "print(\"Welcome to the Python Pizza Deliveries\")\n",
    "size = input(\"What size pizza do you want? S, L or M\")\n",
    "add_pepperoni = input(\"Do you want pepperoni? Y or N\")\n",
    "extra_cheese = input(\"Do you want extra cheese? Y or N\")\n",
    "if size == \"s\":\n",
    "    bill += 15\n",
    "elif size == \"M\":\n",
    "     bill += 20 \n",
    "else:\n",
    "     bill += 25 \n",
    "if add_pepperoni == \"y\":\n",
    "    if size ==\"S\":\n",
    "        bill += 2     \n",
    "    else:\n",
    "        bill += 3\n",
    "if extra_cheese == \"Y\":\n",
    "    bill += 1\n",
    "\n",
    "print(f\"Your final bill is ${bill}\")\n"
   ]
  },
  {
   "cell_type": "code",
   "execution_count": 21,
   "metadata": {},
   "outputs": [
    {
     "name": "stdout",
     "output_type": "stream",
     "text": [
      "Welcome to the love calculator\n",
      "What is your name?\n",
      "Rekha Remadevi\n",
      "What is their name?\n",
      "Sarath Raj Thaiveettil Rajiv\n",
      "Your love_score is 149, you go together like coke and mentos\n"
     ]
    }
   ],
   "source": [
    "print(\"Welcome to the love calculator\")\n",
    "name1 = input(\"What is your name?\\n\")\n",
    "name2= input(\"What is their name?\\n\")\n",
    "combined_string = name1 + name2\n",
    "lower_case_string = combined_string.lower()\n",
    "t = lower_case_string.count(\"t\")\n",
    "r = lower_case_string.count(\"r\")\n",
    "u = lower_case_string.count(\"u\")\n",
    "e = lower_case_string.count(\"e\")\n",
    "true = t + r + u + e\n",
    "\n",
    "l = lower_case_string.count(\"l\")\n",
    "o = lower_case_string.count(\"o\")\n",
    "v = lower_case_string.count(\"v\")\n",
    "e = lower_case_string.count(\"e\")\n",
    "\n",
    "love = l + o + v + e\n",
    "\n",
    "love_score= int(str( true) + str(love))\n",
    "if (love_score <10) or (love_score >90):\n",
    "    print(f\"Your love_score is {love_score}, you go together like coke and mentos\")\n",
    "elif (love_score >=40) and (love_score <=50):\n",
    "    print(f\"Your love_score is {love_score}, you are alright together\" )\n",
    "    \n",
    "else:\n",
    "    print(f\"Your love_score is {love_score}\")\n",
    "\n",
    "\n",
    "\n",
    "\n",
    "\n"
   ]
  }
 ],
 "metadata": {
  "kernelspec": {
   "display_name": "Python 3",
   "language": "python",
   "name": "python3"
  },
  "language_info": {
   "codemirror_mode": {
    "name": "ipython",
    "version": 3
   },
   "file_extension": ".py",
   "mimetype": "text/x-python",
   "name": "python",
   "nbconvert_exporter": "python",
   "pygments_lexer": "ipython3",
   "version": "3.8.5"
  }
 },
 "nbformat": 4,
 "nbformat_minor": 4
}
